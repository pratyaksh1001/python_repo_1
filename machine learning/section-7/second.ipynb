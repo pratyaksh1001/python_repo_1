{
 "cells": [
  {
   "cell_type": "code",
   "id": "initial_id",
   "metadata": {
    "collapsed": true,
    "ExecuteTime": {
     "end_time": "2024-07-17T08:42:11.891850Z",
     "start_time": "2024-07-17T08:42:11.188035Z"
    }
   },
   "source": [
    "import pandas as pd\n",
    "import numpy as np"
   ],
   "outputs": [],
   "execution_count": 2
  },
  {
   "metadata": {
    "ExecuteTime": {
     "end_time": "2024-07-17T08:42:11.900539Z",
     "start_time": "2024-07-17T08:42:11.893863Z"
    }
   },
   "cell_type": "code",
   "source": [
    "indedays=np.array(['monday','tuesday','wednesday','thursday','friday'])\n",
    "df=pd.DataFrame(index=indedays,data={'peanut':np.random.randint(0,10,size=5),\n",
    "'jelly':np.random.randint(0,10,size=5),'almond':np.random.randint(0,10,size=5),'cashew':np.random.randint(0,10,size=5)})"
   ],
   "id": "a03add1ed2f0bb30",
   "outputs": [],
   "execution_count": 3
  },
  {
   "metadata": {
    "ExecuteTime": {
     "end_time": "2024-07-17T08:42:11.926995Z",
     "start_time": "2024-07-17T08:42:11.901568Z"
    }
   },
   "cell_type": "code",
   "source": "df",
   "id": "542a6487adfb2695",
   "outputs": [
    {
     "data": {
      "text/plain": [
       "           peanut  jelly  almond  cashew\n",
       "monday          7      1       6       0\n",
       "tuesday         6      0       9       5\n",
       "wednesday       5      0       8       3\n",
       "thursday        0      7       6       5\n",
       "friday          5      5       0       6"
      ],
      "text/html": [
       "<div>\n",
       "<style scoped>\n",
       "    .dataframe tbody tr th:only-of-type {\n",
       "        vertical-align: middle;\n",
       "    }\n",
       "\n",
       "    .dataframe tbody tr th {\n",
       "        vertical-align: top;\n",
       "    }\n",
       "\n",
       "    .dataframe thead th {\n",
       "        text-align: right;\n",
       "    }\n",
       "</style>\n",
       "<table border=\"1\" class=\"dataframe\">\n",
       "  <thead>\n",
       "    <tr style=\"text-align: right;\">\n",
       "      <th></th>\n",
       "      <th>peanut</th>\n",
       "      <th>jelly</th>\n",
       "      <th>almond</th>\n",
       "      <th>cashew</th>\n",
       "    </tr>\n",
       "  </thead>\n",
       "  <tbody>\n",
       "    <tr>\n",
       "      <th>monday</th>\n",
       "      <td>7</td>\n",
       "      <td>1</td>\n",
       "      <td>6</td>\n",
       "      <td>0</td>\n",
       "    </tr>\n",
       "    <tr>\n",
       "      <th>tuesday</th>\n",
       "      <td>6</td>\n",
       "      <td>0</td>\n",
       "      <td>9</td>\n",
       "      <td>5</td>\n",
       "    </tr>\n",
       "    <tr>\n",
       "      <th>wednesday</th>\n",
       "      <td>5</td>\n",
       "      <td>0</td>\n",
       "      <td>8</td>\n",
       "      <td>3</td>\n",
       "    </tr>\n",
       "    <tr>\n",
       "      <th>thursday</th>\n",
       "      <td>0</td>\n",
       "      <td>7</td>\n",
       "      <td>6</td>\n",
       "      <td>5</td>\n",
       "    </tr>\n",
       "    <tr>\n",
       "      <th>friday</th>\n",
       "      <td>5</td>\n",
       "      <td>5</td>\n",
       "      <td>0</td>\n",
       "      <td>6</td>\n",
       "    </tr>\n",
       "  </tbody>\n",
       "</table>\n",
       "</div>"
      ]
     },
     "execution_count": 4,
     "metadata": {},
     "output_type": "execute_result"
    }
   ],
   "execution_count": 4
  },
  {
   "metadata": {
    "ExecuteTime": {
     "end_time": "2024-07-17T08:42:11.940066Z",
     "start_time": "2024-07-17T08:42:11.929421Z"
    }
   },
   "cell_type": "code",
   "source": [
    "dfprice=pd.DataFrame(index=['price'],data={'peanut':10,\"jelly\":12,\"almond\":20,\"cashew\":15})\n",
    "dfprice"
   ],
   "id": "e943ed197f139fe3",
   "outputs": [
    {
     "data": {
      "text/plain": [
       "       peanut  jelly  almond  cashew\n",
       "price      10     12      20      15"
      ],
      "text/html": [
       "<div>\n",
       "<style scoped>\n",
       "    .dataframe tbody tr th:only-of-type {\n",
       "        vertical-align: middle;\n",
       "    }\n",
       "\n",
       "    .dataframe tbody tr th {\n",
       "        vertical-align: top;\n",
       "    }\n",
       "\n",
       "    .dataframe thead th {\n",
       "        text-align: right;\n",
       "    }\n",
       "</style>\n",
       "<table border=\"1\" class=\"dataframe\">\n",
       "  <thead>\n",
       "    <tr style=\"text-align: right;\">\n",
       "      <th></th>\n",
       "      <th>peanut</th>\n",
       "      <th>jelly</th>\n",
       "      <th>almond</th>\n",
       "      <th>cashew</th>\n",
       "    </tr>\n",
       "  </thead>\n",
       "  <tbody>\n",
       "    <tr>\n",
       "      <th>price</th>\n",
       "      <td>10</td>\n",
       "      <td>12</td>\n",
       "      <td>20</td>\n",
       "      <td>15</td>\n",
       "    </tr>\n",
       "  </tbody>\n",
       "</table>\n",
       "</div>"
      ]
     },
     "execution_count": 5,
     "metadata": {},
     "output_type": "execute_result"
    }
   ],
   "execution_count": 5
  },
  {
   "metadata": {
    "ExecuteTime": {
     "end_time": "2024-07-17T08:42:11.951553Z",
     "start_time": "2024-07-17T08:42:11.942080Z"
    }
   },
   "cell_type": "code",
   "source": [
    "result=dfprice.dot(df.transpose())\n",
    "result"
   ],
   "id": "ef1d7e5c56363ea0",
   "outputs": [
    {
     "data": {
      "text/plain": [
       "       monday  tuesday  wednesday  thursday  friday\n",
       "price     202      315        255       279     200"
      ],
      "text/html": [
       "<div>\n",
       "<style scoped>\n",
       "    .dataframe tbody tr th:only-of-type {\n",
       "        vertical-align: middle;\n",
       "    }\n",
       "\n",
       "    .dataframe tbody tr th {\n",
       "        vertical-align: top;\n",
       "    }\n",
       "\n",
       "    .dataframe thead th {\n",
       "        text-align: right;\n",
       "    }\n",
       "</style>\n",
       "<table border=\"1\" class=\"dataframe\">\n",
       "  <thead>\n",
       "    <tr style=\"text-align: right;\">\n",
       "      <th></th>\n",
       "      <th>monday</th>\n",
       "      <th>tuesday</th>\n",
       "      <th>wednesday</th>\n",
       "      <th>thursday</th>\n",
       "      <th>friday</th>\n",
       "    </tr>\n",
       "  </thead>\n",
       "  <tbody>\n",
       "    <tr>\n",
       "      <th>price</th>\n",
       "      <td>202</td>\n",
       "      <td>315</td>\n",
       "      <td>255</td>\n",
       "      <td>279</td>\n",
       "      <td>200</td>\n",
       "    </tr>\n",
       "  </tbody>\n",
       "</table>\n",
       "</div>"
      ]
     },
     "execution_count": 6,
     "metadata": {},
     "output_type": "execute_result"
    }
   ],
   "execution_count": 6
  },
  {
   "metadata": {
    "ExecuteTime": {
     "end_time": "2024-07-17T08:42:11.963313Z",
     "start_time": "2024-07-17T08:42:11.953568Z"
    }
   },
   "cell_type": "code",
   "source": "df",
   "id": "67a1501837effae3",
   "outputs": [
    {
     "data": {
      "text/plain": [
       "           peanut  jelly  almond  cashew\n",
       "monday          7      1       6       0\n",
       "tuesday         6      0       9       5\n",
       "wednesday       5      0       8       3\n",
       "thursday        0      7       6       5\n",
       "friday          5      5       0       6"
      ],
      "text/html": [
       "<div>\n",
       "<style scoped>\n",
       "    .dataframe tbody tr th:only-of-type {\n",
       "        vertical-align: middle;\n",
       "    }\n",
       "\n",
       "    .dataframe tbody tr th {\n",
       "        vertical-align: top;\n",
       "    }\n",
       "\n",
       "    .dataframe thead th {\n",
       "        text-align: right;\n",
       "    }\n",
       "</style>\n",
       "<table border=\"1\" class=\"dataframe\">\n",
       "  <thead>\n",
       "    <tr style=\"text-align: right;\">\n",
       "      <th></th>\n",
       "      <th>peanut</th>\n",
       "      <th>jelly</th>\n",
       "      <th>almond</th>\n",
       "      <th>cashew</th>\n",
       "    </tr>\n",
       "  </thead>\n",
       "  <tbody>\n",
       "    <tr>\n",
       "      <th>monday</th>\n",
       "      <td>7</td>\n",
       "      <td>1</td>\n",
       "      <td>6</td>\n",
       "      <td>0</td>\n",
       "    </tr>\n",
       "    <tr>\n",
       "      <th>tuesday</th>\n",
       "      <td>6</td>\n",
       "      <td>0</td>\n",
       "      <td>9</td>\n",
       "      <td>5</td>\n",
       "    </tr>\n",
       "    <tr>\n",
       "      <th>wednesday</th>\n",
       "      <td>5</td>\n",
       "      <td>0</td>\n",
       "      <td>8</td>\n",
       "      <td>3</td>\n",
       "    </tr>\n",
       "    <tr>\n",
       "      <th>thursday</th>\n",
       "      <td>0</td>\n",
       "      <td>7</td>\n",
       "      <td>6</td>\n",
       "      <td>5</td>\n",
       "    </tr>\n",
       "    <tr>\n",
       "      <th>friday</th>\n",
       "      <td>5</td>\n",
       "      <td>5</td>\n",
       "      <td>0</td>\n",
       "      <td>6</td>\n",
       "    </tr>\n",
       "  </tbody>\n",
       "</table>\n",
       "</div>"
      ]
     },
     "execution_count": 7,
     "metadata": {},
     "output_type": "execute_result"
    }
   ],
   "execution_count": 7
  },
  {
   "metadata": {
    "ExecuteTime": {
     "end_time": "2024-07-17T08:42:11.974609Z",
     "start_time": "2024-07-17T08:42:11.964661Z"
    }
   },
   "cell_type": "code",
   "source": "dfprice",
   "id": "ba6eb10f72643b06",
   "outputs": [
    {
     "data": {
      "text/plain": [
       "       peanut  jelly  almond  cashew\n",
       "price      10     12      20      15"
      ],
      "text/html": [
       "<div>\n",
       "<style scoped>\n",
       "    .dataframe tbody tr th:only-of-type {\n",
       "        vertical-align: middle;\n",
       "    }\n",
       "\n",
       "    .dataframe tbody tr th {\n",
       "        vertical-align: top;\n",
       "    }\n",
       "\n",
       "    .dataframe thead th {\n",
       "        text-align: right;\n",
       "    }\n",
       "</style>\n",
       "<table border=\"1\" class=\"dataframe\">\n",
       "  <thead>\n",
       "    <tr style=\"text-align: right;\">\n",
       "      <th></th>\n",
       "      <th>peanut</th>\n",
       "      <th>jelly</th>\n",
       "      <th>almond</th>\n",
       "      <th>cashew</th>\n",
       "    </tr>\n",
       "  </thead>\n",
       "  <tbody>\n",
       "    <tr>\n",
       "      <th>price</th>\n",
       "      <td>10</td>\n",
       "      <td>12</td>\n",
       "      <td>20</td>\n",
       "      <td>15</td>\n",
       "    </tr>\n",
       "  </tbody>\n",
       "</table>\n",
       "</div>"
      ]
     },
     "execution_count": 8,
     "metadata": {},
     "output_type": "execute_result"
    }
   ],
   "execution_count": 8
  },
  {
   "metadata": {
    "ExecuteTime": {
     "end_time": "2024-07-17T08:42:11.985672Z",
     "start_time": "2024-07-17T08:42:11.976666Z"
    }
   },
   "cell_type": "code",
   "source": "result",
   "id": "d68ed8dea87fd3d1",
   "outputs": [
    {
     "data": {
      "text/plain": [
       "       monday  tuesday  wednesday  thursday  friday\n",
       "price     202      315        255       279     200"
      ],
      "text/html": [
       "<div>\n",
       "<style scoped>\n",
       "    .dataframe tbody tr th:only-of-type {\n",
       "        vertical-align: middle;\n",
       "    }\n",
       "\n",
       "    .dataframe tbody tr th {\n",
       "        vertical-align: top;\n",
       "    }\n",
       "\n",
       "    .dataframe thead th {\n",
       "        text-align: right;\n",
       "    }\n",
       "</style>\n",
       "<table border=\"1\" class=\"dataframe\">\n",
       "  <thead>\n",
       "    <tr style=\"text-align: right;\">\n",
       "      <th></th>\n",
       "      <th>monday</th>\n",
       "      <th>tuesday</th>\n",
       "      <th>wednesday</th>\n",
       "      <th>thursday</th>\n",
       "      <th>friday</th>\n",
       "    </tr>\n",
       "  </thead>\n",
       "  <tbody>\n",
       "    <tr>\n",
       "      <th>price</th>\n",
       "      <td>202</td>\n",
       "      <td>315</td>\n",
       "      <td>255</td>\n",
       "      <td>279</td>\n",
       "      <td>200</td>\n",
       "    </tr>\n",
       "  </tbody>\n",
       "</table>\n",
       "</div>"
      ]
     },
     "execution_count": 9,
     "metadata": {},
     "output_type": "execute_result"
    }
   ],
   "execution_count": 9
  },
  {
   "metadata": {
    "ExecuteTime": {
     "end_time": "2024-07-17T08:42:11.993408Z",
     "start_time": "2024-07-17T08:42:11.986687Z"
    }
   },
   "cell_type": "code",
   "source": "int(result.transpose()[\"price\"].sum())",
   "id": "a46add4e67a9f47d",
   "outputs": [
    {
     "data": {
      "text/plain": [
       "1251"
      ]
     },
     "execution_count": 10,
     "metadata": {},
     "output_type": "execute_result"
    }
   ],
   "execution_count": 10
  },
  {
   "metadata": {
    "ExecuteTime": {
     "end_time": "2024-07-17T08:42:12.009739Z",
     "start_time": "2024-07-17T08:42:11.999421Z"
    }
   },
   "cell_type": "code",
   "source": "df",
   "id": "fb381c8d48aae087",
   "outputs": [
    {
     "data": {
      "text/plain": [
       "           peanut  jelly  almond  cashew\n",
       "monday          7      1       6       0\n",
       "tuesday         6      0       9       5\n",
       "wednesday       5      0       8       3\n",
       "thursday        0      7       6       5\n",
       "friday          5      5       0       6"
      ],
      "text/html": [
       "<div>\n",
       "<style scoped>\n",
       "    .dataframe tbody tr th:only-of-type {\n",
       "        vertical-align: middle;\n",
       "    }\n",
       "\n",
       "    .dataframe tbody tr th {\n",
       "        vertical-align: top;\n",
       "    }\n",
       "\n",
       "    .dataframe thead th {\n",
       "        text-align: right;\n",
       "    }\n",
       "</style>\n",
       "<table border=\"1\" class=\"dataframe\">\n",
       "  <thead>\n",
       "    <tr style=\"text-align: right;\">\n",
       "      <th></th>\n",
       "      <th>peanut</th>\n",
       "      <th>jelly</th>\n",
       "      <th>almond</th>\n",
       "      <th>cashew</th>\n",
       "    </tr>\n",
       "  </thead>\n",
       "  <tbody>\n",
       "    <tr>\n",
       "      <th>monday</th>\n",
       "      <td>7</td>\n",
       "      <td>1</td>\n",
       "      <td>6</td>\n",
       "      <td>0</td>\n",
       "    </tr>\n",
       "    <tr>\n",
       "      <th>tuesday</th>\n",
       "      <td>6</td>\n",
       "      <td>0</td>\n",
       "      <td>9</td>\n",
       "      <td>5</td>\n",
       "    </tr>\n",
       "    <tr>\n",
       "      <th>wednesday</th>\n",
       "      <td>5</td>\n",
       "      <td>0</td>\n",
       "      <td>8</td>\n",
       "      <td>3</td>\n",
       "    </tr>\n",
       "    <tr>\n",
       "      <th>thursday</th>\n",
       "      <td>0</td>\n",
       "      <td>7</td>\n",
       "      <td>6</td>\n",
       "      <td>5</td>\n",
       "    </tr>\n",
       "    <tr>\n",
       "      <th>friday</th>\n",
       "      <td>5</td>\n",
       "      <td>5</td>\n",
       "      <td>0</td>\n",
       "      <td>6</td>\n",
       "    </tr>\n",
       "  </tbody>\n",
       "</table>\n",
       "</div>"
      ]
     },
     "execution_count": 11,
     "metadata": {},
     "output_type": "execute_result"
    }
   ],
   "execution_count": 11
  },
  {
   "metadata": {
    "ExecuteTime": {
     "end_time": "2024-07-17T08:42:12.017802Z",
     "start_time": "2024-07-17T08:42:12.011753Z"
    }
   },
   "cell_type": "code",
   "source": "df[\"total\"]=result.transpose()",
   "id": "acad4760b93d379c",
   "outputs": [],
   "execution_count": 12
  },
  {
   "metadata": {
    "ExecuteTime": {
     "end_time": "2024-07-17T08:42:12.028282Z",
     "start_time": "2024-07-17T08:42:12.018811Z"
    }
   },
   "cell_type": "code",
   "source": "df",
   "id": "818fa6f8d38863c4",
   "outputs": [
    {
     "data": {
      "text/plain": [
       "           peanut  jelly  almond  cashew  total\n",
       "monday          7      1       6       0    202\n",
       "tuesday         6      0       9       5    315\n",
       "wednesday       5      0       8       3    255\n",
       "thursday        0      7       6       5    279\n",
       "friday          5      5       0       6    200"
      ],
      "text/html": [
       "<div>\n",
       "<style scoped>\n",
       "    .dataframe tbody tr th:only-of-type {\n",
       "        vertical-align: middle;\n",
       "    }\n",
       "\n",
       "    .dataframe tbody tr th {\n",
       "        vertical-align: top;\n",
       "    }\n",
       "\n",
       "    .dataframe thead th {\n",
       "        text-align: right;\n",
       "    }\n",
       "</style>\n",
       "<table border=\"1\" class=\"dataframe\">\n",
       "  <thead>\n",
       "    <tr style=\"text-align: right;\">\n",
       "      <th></th>\n",
       "      <th>peanut</th>\n",
       "      <th>jelly</th>\n",
       "      <th>almond</th>\n",
       "      <th>cashew</th>\n",
       "      <th>total</th>\n",
       "    </tr>\n",
       "  </thead>\n",
       "  <tbody>\n",
       "    <tr>\n",
       "      <th>monday</th>\n",
       "      <td>7</td>\n",
       "      <td>1</td>\n",
       "      <td>6</td>\n",
       "      <td>0</td>\n",
       "      <td>202</td>\n",
       "    </tr>\n",
       "    <tr>\n",
       "      <th>tuesday</th>\n",
       "      <td>6</td>\n",
       "      <td>0</td>\n",
       "      <td>9</td>\n",
       "      <td>5</td>\n",
       "      <td>315</td>\n",
       "    </tr>\n",
       "    <tr>\n",
       "      <th>wednesday</th>\n",
       "      <td>5</td>\n",
       "      <td>0</td>\n",
       "      <td>8</td>\n",
       "      <td>3</td>\n",
       "      <td>255</td>\n",
       "    </tr>\n",
       "    <tr>\n",
       "      <th>thursday</th>\n",
       "      <td>0</td>\n",
       "      <td>7</td>\n",
       "      <td>6</td>\n",
       "      <td>5</td>\n",
       "      <td>279</td>\n",
       "    </tr>\n",
       "    <tr>\n",
       "      <th>friday</th>\n",
       "      <td>5</td>\n",
       "      <td>5</td>\n",
       "      <td>0</td>\n",
       "      <td>6</td>\n",
       "      <td>200</td>\n",
       "    </tr>\n",
       "  </tbody>\n",
       "</table>\n",
       "</div>"
      ]
     },
     "execution_count": 13,
     "metadata": {},
     "output_type": "execute_result"
    }
   ],
   "execution_count": 13
  },
  {
   "metadata": {
    "ExecuteTime": {
     "end_time": "2024-07-17T08:42:12.037876Z",
     "start_time": "2024-07-17T08:42:12.030297Z"
    }
   },
   "cell_type": "code",
   "source": "df.to_csv(\"practice1.csv\")",
   "id": "606bb2bc50e4d739",
   "outputs": [],
   "execution_count": 14
  },
  {
   "metadata": {
    "ExecuteTime": {
     "end_time": "2024-07-17T08:42:12.376031Z",
     "start_time": "2024-07-17T08:42:12.038893Z"
    }
   },
   "cell_type": "code",
   "source": "from matplotlib.image import imread",
   "id": "76fee3a2f9786d71",
   "outputs": [],
   "execution_count": 15
  },
  {
   "metadata": {
    "ExecuteTime": {
     "end_time": "2024-07-17T08:42:12.710105Z",
     "start_time": "2024-07-17T08:42:12.377057Z"
    }
   },
   "cell_type": "code",
   "source": "dog=imread(\"pexels-chevanon-1108099.jpg\")",
   "id": "acd6e49802fdf5d4",
   "outputs": [],
   "execution_count": 16
  },
  {
   "metadata": {
    "ExecuteTime": {
     "end_time": "2024-07-17T08:42:12.718946Z",
     "start_time": "2024-07-17T08:42:12.711120Z"
    }
   },
   "cell_type": "code",
   "source": "type(dog)",
   "id": "154b92d26996195f",
   "outputs": [
    {
     "data": {
      "text/plain": [
       "numpy.ndarray"
      ]
     },
     "execution_count": 17,
     "metadata": {},
     "output_type": "execute_result"
    }
   ],
   "execution_count": 17
  },
  {
   "metadata": {
    "ExecuteTime": {
     "end_time": "2024-07-17T08:42:12.727414Z",
     "start_time": "2024-07-17T08:42:12.720960Z"
    }
   },
   "cell_type": "code",
   "source": "dog.size",
   "id": "9df5666973dd3a9e",
   "outputs": [
    {
     "data": {
      "text/plain": [
       "60466176"
      ]
     },
     "execution_count": 18,
     "metadata": {},
     "output_type": "execute_result"
    }
   ],
   "execution_count": 18
  },
  {
   "metadata": {
    "ExecuteTime": {
     "end_time": "2024-07-17T08:42:12.734418Z",
     "start_time": "2024-07-17T08:42:12.728425Z"
    }
   },
   "cell_type": "code",
   "source": "dog.ndim",
   "id": "6d7420bd19f3c69b",
   "outputs": [
    {
     "data": {
      "text/plain": [
       "3"
      ]
     },
     "execution_count": 19,
     "metadata": {},
     "output_type": "execute_result"
    }
   ],
   "execution_count": 19
  },
  {
   "metadata": {
    "ExecuteTime": {
     "end_time": "2024-07-17T08:42:12.742281Z",
     "start_time": "2024-07-17T08:42:12.735428Z"
    }
   },
   "cell_type": "code",
   "source": "dog.shape",
   "id": "ca70edd2646a5f6d",
   "outputs": [
    {
     "data": {
      "text/plain": [
       "(3888, 5184, 3)"
      ]
     },
     "execution_count": 20,
     "metadata": {},
     "output_type": "execute_result"
    }
   ],
   "execution_count": 20
  },
  {
   "metadata": {
    "ExecuteTime": {
     "end_time": "2024-07-17T08:42:12.751525Z",
     "start_time": "2024-07-17T08:42:12.743290Z"
    }
   },
   "cell_type": "code",
   "source": "dog",
   "id": "8e9fad6ff574d80b",
   "outputs": [
    {
     "data": {
      "text/plain": [
       "array([[[ 74,  95,  56],\n",
       "        [ 74,  95,  56],\n",
       "        [ 74,  95,  56],\n",
       "        ...,\n",
       "        [ 71,  93,  55],\n",
       "        [ 71,  93,  55],\n",
       "        [ 71,  93,  55]],\n",
       "\n",
       "       [[ 74,  95,  56],\n",
       "        [ 74,  95,  56],\n",
       "        [ 74,  95,  56],\n",
       "        ...,\n",
       "        [ 71,  93,  55],\n",
       "        [ 71,  93,  55],\n",
       "        [ 71,  93,  55]],\n",
       "\n",
       "       [[ 74,  95,  56],\n",
       "        [ 74,  95,  56],\n",
       "        [ 74,  95,  56],\n",
       "        ...,\n",
       "        [ 71,  93,  55],\n",
       "        [ 71,  93,  55],\n",
       "        [ 71,  93,  55]],\n",
       "\n",
       "       ...,\n",
       "\n",
       "       [[ 81,  88,  54],\n",
       "        [ 81,  88,  54],\n",
       "        [ 81,  88,  54],\n",
       "        ...,\n",
       "        [125,  97,  50],\n",
       "        [125,  97,  50],\n",
       "        [125,  97,  50]],\n",
       "\n",
       "       [[ 81,  88,  54],\n",
       "        [ 81,  88,  54],\n",
       "        [ 81,  88,  54],\n",
       "        ...,\n",
       "        [127,  96,  50],\n",
       "        [127,  96,  50],\n",
       "        [127,  96,  50]],\n",
       "\n",
       "       [[ 81,  88,  54],\n",
       "        [ 81,  88,  54],\n",
       "        [ 81,  88,  54],\n",
       "        ...,\n",
       "        [127,  96,  50],\n",
       "        [127,  96,  50],\n",
       "        [127,  96,  50]]], dtype=uint8)"
      ]
     },
     "execution_count": 21,
     "metadata": {},
     "output_type": "execute_result"
    }
   ],
   "execution_count": 21
  },
  {
   "metadata": {
    "ExecuteTime": {
     "end_time": "2024-07-17T08:42:38.196598Z",
     "start_time": "2024-07-17T08:42:38.190832Z"
    }
   },
   "cell_type": "code",
   "source": "dog",
   "id": "de29ed9aedc63b99",
   "outputs": [
    {
     "data": {
      "text/plain": [
       "array([[[ 74,  95,  56],\n",
       "        [ 74,  95,  56],\n",
       "        [ 74,  95,  56],\n",
       "        ...,\n",
       "        [ 71,  93,  55],\n",
       "        [ 71,  93,  55],\n",
       "        [ 71,  93,  55]],\n",
       "\n",
       "       [[ 74,  95,  56],\n",
       "        [ 74,  95,  56],\n",
       "        [ 74,  95,  56],\n",
       "        ...,\n",
       "        [ 71,  93,  55],\n",
       "        [ 71,  93,  55],\n",
       "        [ 71,  93,  55]],\n",
       "\n",
       "       [[ 74,  95,  56],\n",
       "        [ 74,  95,  56],\n",
       "        [ 74,  95,  56],\n",
       "        ...,\n",
       "        [ 71,  93,  55],\n",
       "        [ 71,  93,  55],\n",
       "        [ 71,  93,  55]],\n",
       "\n",
       "       ...,\n",
       "\n",
       "       [[ 81,  88,  54],\n",
       "        [ 81,  88,  54],\n",
       "        [ 81,  88,  54],\n",
       "        ...,\n",
       "        [125,  97,  50],\n",
       "        [125,  97,  50],\n",
       "        [125,  97,  50]],\n",
       "\n",
       "       [[ 81,  88,  54],\n",
       "        [ 81,  88,  54],\n",
       "        [ 81,  88,  54],\n",
       "        ...,\n",
       "        [127,  96,  50],\n",
       "        [127,  96,  50],\n",
       "        [127,  96,  50]],\n",
       "\n",
       "       [[ 81,  88,  54],\n",
       "        [ 81,  88,  54],\n",
       "        [ 81,  88,  54],\n",
       "        ...,\n",
       "        [127,  96,  50],\n",
       "        [127,  96,  50],\n",
       "        [127,  96,  50]]], dtype=uint8)"
      ]
     },
     "execution_count": 24,
     "metadata": {},
     "output_type": "execute_result"
    }
   ],
   "execution_count": 24
  },
  {
   "metadata": {
    "ExecuteTime": {
     "end_time": "2024-07-17T08:42:13.267281Z",
     "start_time": "2024-07-17T08:42:13.264247Z"
    }
   },
   "cell_type": "code",
   "source": "",
   "id": "a2b7f627d2178433",
   "outputs": [],
   "execution_count": 22
  }
 ],
 "metadata": {
  "kernelspec": {
   "display_name": "Python 3",
   "language": "python",
   "name": "python3"
  },
  "language_info": {
   "codemirror_mode": {
    "name": "ipython",
    "version": 2
   },
   "file_extension": ".py",
   "mimetype": "text/x-python",
   "name": "python",
   "nbconvert_exporter": "python",
   "pygments_lexer": "ipython2",
   "version": "2.7.6"
  }
 },
 "nbformat": 4,
 "nbformat_minor": 5
}
