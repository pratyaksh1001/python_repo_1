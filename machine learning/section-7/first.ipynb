{
 "cells": [
  {
   "cell_type": "code",
   "id": "initial_id",
   "metadata": {
    "collapsed": true,
    "ExecuteTime": {
     "end_time": "2024-07-17T04:11:15.421717Z",
     "start_time": "2024-07-17T04:11:14.967936Z"
    }
   },
   "source": [
    "import numpy as np\n",
    "import pandas as pd"
   ],
   "outputs": [],
   "execution_count": 1
  },
  {
   "metadata": {
    "ExecuteTime": {
     "end_time": "2024-07-17T04:11:15.425790Z",
     "start_time": "2024-07-17T04:11:15.422722Z"
    }
   },
   "cell_type": "code",
   "source": "arr1=np.array([1,2,3,4,5,6,7,8,9,10])",
   "id": "395b0a52826b26e8",
   "outputs": [],
   "execution_count": 2
  },
  {
   "metadata": {
    "ExecuteTime": {
     "end_time": "2024-07-17T04:11:15.441348Z",
     "start_time": "2024-07-17T04:11:15.426799Z"
    }
   },
   "cell_type": "code",
   "source": "arr1",
   "id": "ac890f7ad430f66e",
   "outputs": [
    {
     "data": {
      "text/plain": [
       "array([ 1,  2,  3,  4,  5,  6,  7,  8,  9, 10])"
      ]
     },
     "execution_count": 3,
     "metadata": {},
     "output_type": "execute_result"
    }
   ],
   "execution_count": 3
  },
  {
   "metadata": {
    "ExecuteTime": {
     "end_time": "2024-07-17T04:11:15.446791Z",
     "start_time": "2024-07-17T04:11:15.442497Z"
    }
   },
   "cell_type": "code",
   "source": "type(arr1)",
   "id": "6abc3eb5f1616ac7",
   "outputs": [
    {
     "data": {
      "text/plain": [
       "numpy.ndarray"
      ]
     },
     "execution_count": 4,
     "metadata": {},
     "output_type": "execute_result"
    }
   ],
   "execution_count": 4
  },
  {
   "metadata": {
    "ExecuteTime": {
     "end_time": "2024-07-17T04:11:15.451939Z",
     "start_time": "2024-07-17T04:11:15.448821Z"
    }
   },
   "cell_type": "code",
   "source": [
    "arr2=np.array([[7,4,5,6,2,3,4],\n",
    "              [8,6,5,1,2,3,7]])"
   ],
   "id": "425078f26424b749",
   "outputs": [],
   "execution_count": 5
  },
  {
   "metadata": {
    "ExecuteTime": {
     "end_time": "2024-07-17T04:11:15.457110Z",
     "start_time": "2024-07-17T04:11:15.452949Z"
    }
   },
   "cell_type": "code",
   "source": "arr2",
   "id": "822070c7892dddf7",
   "outputs": [
    {
     "data": {
      "text/plain": [
       "array([[7, 4, 5, 6, 2, 3, 4],\n",
       "       [8, 6, 5, 1, 2, 3, 7]])"
      ]
     },
     "execution_count": 6,
     "metadata": {},
     "output_type": "execute_result"
    }
   ],
   "execution_count": 6
  },
  {
   "metadata": {
    "ExecuteTime": {
     "end_time": "2024-07-17T04:11:15.462267Z",
     "start_time": "2024-07-17T04:11:15.457110Z"
    }
   },
   "cell_type": "code",
   "source": "arr2.shape",
   "id": "4149c48cf132ba62",
   "outputs": [
    {
     "data": {
      "text/plain": [
       "(2, 7)"
      ]
     },
     "execution_count": 7,
     "metadata": {},
     "output_type": "execute_result"
    }
   ],
   "execution_count": 7
  },
  {
   "metadata": {
    "ExecuteTime": {
     "end_time": "2024-07-17T04:11:15.467459Z",
     "start_time": "2024-07-17T04:11:15.463288Z"
    }
   },
   "cell_type": "code",
   "source": "arr1.shape",
   "id": "815ea108ecc737e1",
   "outputs": [
    {
     "data": {
      "text/plain": [
       "(10,)"
      ]
     },
     "execution_count": 8,
     "metadata": {},
     "output_type": "execute_result"
    }
   ],
   "execution_count": 8
  },
  {
   "metadata": {
    "ExecuteTime": {
     "end_time": "2024-07-17T04:11:15.472225Z",
     "start_time": "2024-07-17T04:11:15.467459Z"
    }
   },
   "cell_type": "code",
   "source": "arr2.ndim",
   "id": "e703155b23bd0333",
   "outputs": [
    {
     "data": {
      "text/plain": [
       "2"
      ]
     },
     "execution_count": 9,
     "metadata": {},
     "output_type": "execute_result"
    }
   ],
   "execution_count": 9
  },
  {
   "metadata": {
    "ExecuteTime": {
     "end_time": "2024-07-17T04:11:15.476493Z",
     "start_time": "2024-07-17T04:11:15.473243Z"
    }
   },
   "cell_type": "code",
   "source": "arr2.dtype",
   "id": "11a75f4e0cd946ef",
   "outputs": [
    {
     "data": {
      "text/plain": [
       "dtype('int64')"
      ]
     },
     "execution_count": 10,
     "metadata": {},
     "output_type": "execute_result"
    }
   ],
   "execution_count": 10
  },
  {
   "metadata": {
    "ExecuteTime": {
     "end_time": "2024-07-17T04:11:15.481172Z",
     "start_time": "2024-07-17T04:11:15.477566Z"
    }
   },
   "cell_type": "code",
   "source": "arr2.size",
   "id": "63e6dc12f2ed17cc",
   "outputs": [
    {
     "data": {
      "text/plain": [
       "14"
      ]
     },
     "execution_count": 11,
     "metadata": {},
     "output_type": "execute_result"
    }
   ],
   "execution_count": 11
  },
  {
   "metadata": {
    "ExecuteTime": {
     "end_time": "2024-07-17T04:11:15.484941Z",
     "start_time": "2024-07-17T04:11:15.482205Z"
    }
   },
   "cell_type": "code",
   "source": "ones=np.ones((2,3),dtype=int)",
   "id": "dd9fe8c053278785",
   "outputs": [],
   "execution_count": 12
  },
  {
   "metadata": {
    "ExecuteTime": {
     "end_time": "2024-07-17T04:11:15.489792Z",
     "start_time": "2024-07-17T04:11:15.484941Z"
    }
   },
   "cell_type": "code",
   "source": "ones",
   "id": "a05c365ba0da53f4",
   "outputs": [
    {
     "data": {
      "text/plain": [
       "array([[1, 1, 1],\n",
       "       [1, 1, 1]])"
      ]
     },
     "execution_count": 13,
     "metadata": {},
     "output_type": "execute_result"
    }
   ],
   "execution_count": 13
  },
  {
   "metadata": {
    "ExecuteTime": {
     "end_time": "2024-07-17T04:11:15.495477Z",
     "start_time": "2024-07-17T04:11:15.491843Z"
    }
   },
   "cell_type": "code",
   "source": "zeroes=np.zeros((2,3),dtype=int)",
   "id": "e45a695cec29637f",
   "outputs": [],
   "execution_count": 14
  },
  {
   "metadata": {
    "ExecuteTime": {
     "end_time": "2024-07-17T04:11:15.500425Z",
     "start_time": "2024-07-17T04:11:15.495477Z"
    }
   },
   "cell_type": "code",
   "source": "zeroes",
   "id": "9082f5154f31c058",
   "outputs": [
    {
     "data": {
      "text/plain": [
       "array([[0, 0, 0],\n",
       "       [0, 0, 0]])"
      ]
     },
     "execution_count": 15,
     "metadata": {},
     "output_type": "execute_result"
    }
   ],
   "execution_count": 15
  },
  {
   "metadata": {
    "ExecuteTime": {
     "end_time": "2024-07-17T04:11:15.504613Z",
     "start_time": "2024-07-17T04:11:15.501519Z"
    }
   },
   "cell_type": "code",
   "source": "range_array=np.arange(0,11,2)",
   "id": "1ca4385b4f711270",
   "outputs": [],
   "execution_count": 16
  },
  {
   "metadata": {
    "ExecuteTime": {
     "end_time": "2024-07-17T04:11:15.510180Z",
     "start_time": "2024-07-17T04:11:15.505627Z"
    }
   },
   "cell_type": "code",
   "source": "range_array",
   "id": "d1dd072185d40aaa",
   "outputs": [
    {
     "data": {
      "text/plain": [
       "array([ 0,  2,  4,  6,  8, 10])"
      ]
     },
     "execution_count": 17,
     "metadata": {},
     "output_type": "execute_result"
    }
   ],
   "execution_count": 17
  },
  {
   "metadata": {
    "ExecuteTime": {
     "end_time": "2024-07-17T04:11:15.514615Z",
     "start_time": "2024-07-17T04:11:15.511195Z"
    }
   },
   "cell_type": "code",
   "source": "range_array.dtype",
   "id": "507f5fbfee643612",
   "outputs": [
    {
     "data": {
      "text/plain": [
       "dtype('int64')"
      ]
     },
     "execution_count": 18,
     "metadata": {},
     "output_type": "execute_result"
    }
   ],
   "execution_count": 18
  },
  {
   "metadata": {
    "ExecuteTime": {
     "end_time": "2024-07-17T04:11:15.520479Z",
     "start_time": "2024-07-17T04:11:15.515632Z"
    }
   },
   "cell_type": "code",
   "source": "random_array=np.random.randint(0,10,size=(3,3))",
   "id": "9bee41030488b1cd",
   "outputs": [],
   "execution_count": 19
  },
  {
   "metadata": {
    "ExecuteTime": {
     "end_time": "2024-07-17T04:11:15.525027Z",
     "start_time": "2024-07-17T04:11:15.520479Z"
    }
   },
   "cell_type": "code",
   "source": "random_array",
   "id": "92f37a1b3991f40c",
   "outputs": [
    {
     "data": {
      "text/plain": [
       "array([[5, 4, 5],\n",
       "       [4, 1, 7],\n",
       "       [8, 0, 7]], dtype=int32)"
      ]
     },
     "execution_count": 20,
     "metadata": {},
     "output_type": "execute_result"
    }
   ],
   "execution_count": 20
  },
  {
   "metadata": {
    "ExecuteTime": {
     "end_time": "2024-07-17T04:11:15.527966Z",
     "start_time": "2024-07-17T04:11:15.526141Z"
    }
   },
   "cell_type": "code",
   "source": "",
   "id": "b4d243d359a0e0e6",
   "outputs": [],
   "execution_count": 20
  },
  {
   "metadata": {
    "ExecuteTime": {
     "end_time": "2024-07-17T04:11:15.532589Z",
     "start_time": "2024-07-17T04:11:15.527966Z"
    }
   },
   "cell_type": "code",
   "source": [
    "np.random.seed(seed=0)\n",
    "array_3=np.random.randint(1,11,size=(5,5))\n",
    "array_3"
   ],
   "id": "cba8c0d3847f8d0d",
   "outputs": [
    {
     "data": {
      "text/plain": [
       "array([[ 6,  1,  4,  4,  8],\n",
       "       [10,  4,  6,  3,  5],\n",
       "       [ 8,  7,  9,  9,  2],\n",
       "       [ 7,  8,  8,  9,  2],\n",
       "       [ 6, 10,  9, 10,  5]], dtype=int32)"
      ]
     },
     "execution_count": 21,
     "metadata": {},
     "output_type": "execute_result"
    }
   ],
   "execution_count": 21
  },
  {
   "metadata": {
    "ExecuteTime": {
     "end_time": "2024-07-17T04:11:15.535754Z",
     "start_time": "2024-07-17T04:11:15.533633Z"
    }
   },
   "cell_type": "code",
   "source": "",
   "id": "ea569eac3e20d2b1",
   "outputs": [],
   "execution_count": 21
  },
  {
   "metadata": {
    "ExecuteTime": {
     "end_time": "2024-07-17T04:11:15.541303Z",
     "start_time": "2024-07-17T04:11:15.536778Z"
    }
   },
   "cell_type": "code",
   "source": [
    "test_array=np.random.randint(1,11,size=(3,4,5,6))\n",
    "test_array"
   ],
   "id": "e6e4ed3670e6eeed",
   "outputs": [
    {
     "data": {
      "text/plain": [
       "array([[[[ 4,  1,  4,  6,  1,  3],\n",
       "         [ 4,  9,  2,  4,  4,  4],\n",
       "         [ 8,  1,  2, 10, 10,  1],\n",
       "         [ 5,  8,  4,  3,  8,  3],\n",
       "         [ 1,  1,  5,  6,  6,  7]],\n",
       "\n",
       "        [[ 9,  5,  2,  5, 10,  9],\n",
       "         [ 2,  2,  8, 10, 10,  4],\n",
       "         [ 7,  8,  3,  1,  4,  6],\n",
       "         [10,  5,  5,  7,  5,  5],\n",
       "         [ 4,  5,  5,  9,  5,  4]],\n",
       "\n",
       "        [[ 8,  6,  6,  1,  2,  6],\n",
       "         [10,  4,  1,  6,  1,  2],\n",
       "         [ 3,  5,  3,  1,  4,  3],\n",
       "         [ 1,  8,  6, 10,  1,  3],\n",
       "         [ 8,  3, 10,  3,  4,  4]],\n",
       "\n",
       "        [[ 3,  4,  5,  2,  3, 10],\n",
       "         [ 2,  5,  7,  9,  3,  4],\n",
       "         [ 1,  1,  7,  1,  7,  4],\n",
       "         [ 4,  9,  9,  9,  3,  4],\n",
       "         [ 3,  1,  9,  9,  4,  9]]],\n",
       "\n",
       "\n",
       "       [[[ 3,  9,  5,  4,  1,  5],\n",
       "         [ 4,  7, 10,  9,  1,  9],\n",
       "         [ 6, 10,  1, 10,  7,  6],\n",
       "         [ 4,  2,  9,  1,  5, 10],\n",
       "         [ 7,  6,  8,  9,  9, 10]],\n",
       "\n",
       "        [[ 3,  9,  7,  7, 10,  2],\n",
       "         [ 7,  9,  9,  4,  3,  4],\n",
       "         [ 7,  4,  7,  6,  8,  1],\n",
       "         [ 9,  5,  7,  6,  9,  3],\n",
       "         [ 4, 10,  8,  6,  4,  5]],\n",
       "\n",
       "        [[ 6,  4,  4,  8, 10, 10],\n",
       "         [10,  8,  4,  3,  4, 10],\n",
       "         [ 8,  8,  6,  2,  3,  3],\n",
       "         [ 9,  2,  6,  9,  5,  1],\n",
       "         [ 3,  6,  6,  1,  9,  2]],\n",
       "\n",
       "        [[ 2,  1,  4,  9,  9,  5],\n",
       "         [ 5,  1, 10,  4,  8,  4],\n",
       "         [ 3,  2,  2,  3,  2,  5],\n",
       "         [ 3,  6,  6,  6,  3,  6],\n",
       "         [ 8,  8,  7,  2,  7,  8]]],\n",
       "\n",
       "\n",
       "       [[[ 3,  4,  2, 10,  6, 10],\n",
       "         [10,  3,  1, 10,  2, 10],\n",
       "         [ 1,  7,  1,  5,  9,  5],\n",
       "         [ 4,  4,  9,  9,  8,  1],\n",
       "         [ 4,  9,  8,  8,  2,  9]],\n",
       "\n",
       "        [[ 5,  8,  1,  5, 10,  1],\n",
       "         [ 7,  5,  3,  5,  7,  4],\n",
       "         [ 4,  8,  9,  6,  1,  9],\n",
       "         [ 6,  5,  8,  5,  2,  4],\n",
       "         [ 4, 10,  3,  6,  3,  4]],\n",
       "\n",
       "        [[ 6,  8,  3,  8,  2,  7],\n",
       "         [ 6,  1,  1,  4,  2, 10],\n",
       "         [10,  7,  7,  8,  9,  9],\n",
       "         [ 8,  1,  9,  7,  9, 10],\n",
       "         [ 9,  4,  7,  2,  8,  5]],\n",
       "\n",
       "        [[10,  3,  1,  9,  3,  8],\n",
       "         [ 9,  5,  5,  2,  8,  7],\n",
       "         [10,  5,  2,  6, 10,  8],\n",
       "         [ 2,  4,  6,  8,  4,  7],\n",
       "         [ 7,  8, 10,  2, 10,  7]]]], dtype=int32)"
      ]
     },
     "execution_count": 22,
     "metadata": {},
     "output_type": "execute_result"
    }
   ],
   "execution_count": 22
  },
  {
   "metadata": {
    "ExecuteTime": {
     "end_time": "2024-07-17T04:11:15.545949Z",
     "start_time": "2024-07-17T04:11:15.542380Z"
    }
   },
   "cell_type": "code",
   "source": "test_array[:2,:2,:2,:2]",
   "id": "f5541247361ba616",
   "outputs": [
    {
     "data": {
      "text/plain": [
       "array([[[[4, 1],\n",
       "         [4, 9]],\n",
       "\n",
       "        [[9, 5],\n",
       "         [2, 2]]],\n",
       "\n",
       "\n",
       "       [[[3, 9],\n",
       "         [4, 7]],\n",
       "\n",
       "        [[3, 9],\n",
       "         [7, 9]]]], dtype=int32)"
      ]
     },
     "execution_count": 23,
     "metadata": {},
     "output_type": "execute_result"
    }
   ],
   "execution_count": 23
  },
  {
   "metadata": {
    "ExecuteTime": {
     "end_time": "2024-07-17T04:11:15.551349Z",
     "start_time": "2024-07-17T04:11:15.546960Z"
    }
   },
   "cell_type": "code",
   "source": [
    "test2=np.random.randint(0,10,size=(3,3))\n",
    "test2"
   ],
   "id": "65851cfd3a8d1b19",
   "outputs": [
    {
     "data": {
      "text/plain": [
       "array([[0, 3, 8],\n",
       "       [4, 1, 4],\n",
       "       [5, 0, 3]], dtype=int32)"
      ]
     },
     "execution_count": 24,
     "metadata": {},
     "output_type": "execute_result"
    }
   ],
   "execution_count": 24
  },
  {
   "metadata": {
    "ExecuteTime": {
     "end_time": "2024-07-17T04:11:15.555882Z",
     "start_time": "2024-07-17T04:11:15.552372Z"
    }
   },
   "cell_type": "code",
   "source": "test2[:2]",
   "id": "46d96c7d70211896",
   "outputs": [
    {
     "data": {
      "text/plain": [
       "array([[0, 3, 8],\n",
       "       [4, 1, 4]], dtype=int32)"
      ]
     },
     "execution_count": 25,
     "metadata": {},
     "output_type": "execute_result"
    }
   ],
   "execution_count": 25
  },
  {
   "metadata": {
    "ExecuteTime": {
     "end_time": "2024-07-17T04:11:15.561058Z",
     "start_time": "2024-07-17T04:11:15.557004Z"
    }
   },
   "cell_type": "code",
   "source": "test2",
   "id": "bfd991f31a9dee9c",
   "outputs": [
    {
     "data": {
      "text/plain": [
       "array([[0, 3, 8],\n",
       "       [4, 1, 4],\n",
       "       [5, 0, 3]], dtype=int32)"
      ]
     },
     "execution_count": 26,
     "metadata": {},
     "output_type": "execute_result"
    }
   ],
   "execution_count": 26
  },
  {
   "metadata": {
    "ExecuteTime": {
     "end_time": "2024-07-17T04:11:15.566582Z",
     "start_time": "2024-07-17T04:11:15.562096Z"
    }
   },
   "cell_type": "code",
   "source": "test2[:2,:2]",
   "id": "90f67ffd9a8daabb",
   "outputs": [
    {
     "data": {
      "text/plain": [
       "array([[0, 3],\n",
       "       [4, 1]], dtype=int32)"
      ]
     },
     "execution_count": 27,
     "metadata": {},
     "output_type": "execute_result"
    }
   ],
   "execution_count": 27
  },
  {
   "metadata": {
    "ExecuteTime": {
     "end_time": "2024-07-17T04:11:15.572021Z",
     "start_time": "2024-07-17T04:11:15.567616Z"
    }
   },
   "cell_type": "code",
   "source": "test_array",
   "id": "2751be79fc923b42",
   "outputs": [
    {
     "data": {
      "text/plain": [
       "array([[[[ 4,  1,  4,  6,  1,  3],\n",
       "         [ 4,  9,  2,  4,  4,  4],\n",
       "         [ 8,  1,  2, 10, 10,  1],\n",
       "         [ 5,  8,  4,  3,  8,  3],\n",
       "         [ 1,  1,  5,  6,  6,  7]],\n",
       "\n",
       "        [[ 9,  5,  2,  5, 10,  9],\n",
       "         [ 2,  2,  8, 10, 10,  4],\n",
       "         [ 7,  8,  3,  1,  4,  6],\n",
       "         [10,  5,  5,  7,  5,  5],\n",
       "         [ 4,  5,  5,  9,  5,  4]],\n",
       "\n",
       "        [[ 8,  6,  6,  1,  2,  6],\n",
       "         [10,  4,  1,  6,  1,  2],\n",
       "         [ 3,  5,  3,  1,  4,  3],\n",
       "         [ 1,  8,  6, 10,  1,  3],\n",
       "         [ 8,  3, 10,  3,  4,  4]],\n",
       "\n",
       "        [[ 3,  4,  5,  2,  3, 10],\n",
       "         [ 2,  5,  7,  9,  3,  4],\n",
       "         [ 1,  1,  7,  1,  7,  4],\n",
       "         [ 4,  9,  9,  9,  3,  4],\n",
       "         [ 3,  1,  9,  9,  4,  9]]],\n",
       "\n",
       "\n",
       "       [[[ 3,  9,  5,  4,  1,  5],\n",
       "         [ 4,  7, 10,  9,  1,  9],\n",
       "         [ 6, 10,  1, 10,  7,  6],\n",
       "         [ 4,  2,  9,  1,  5, 10],\n",
       "         [ 7,  6,  8,  9,  9, 10]],\n",
       "\n",
       "        [[ 3,  9,  7,  7, 10,  2],\n",
       "         [ 7,  9,  9,  4,  3,  4],\n",
       "         [ 7,  4,  7,  6,  8,  1],\n",
       "         [ 9,  5,  7,  6,  9,  3],\n",
       "         [ 4, 10,  8,  6,  4,  5]],\n",
       "\n",
       "        [[ 6,  4,  4,  8, 10, 10],\n",
       "         [10,  8,  4,  3,  4, 10],\n",
       "         [ 8,  8,  6,  2,  3,  3],\n",
       "         [ 9,  2,  6,  9,  5,  1],\n",
       "         [ 3,  6,  6,  1,  9,  2]],\n",
       "\n",
       "        [[ 2,  1,  4,  9,  9,  5],\n",
       "         [ 5,  1, 10,  4,  8,  4],\n",
       "         [ 3,  2,  2,  3,  2,  5],\n",
       "         [ 3,  6,  6,  6,  3,  6],\n",
       "         [ 8,  8,  7,  2,  7,  8]]],\n",
       "\n",
       "\n",
       "       [[[ 3,  4,  2, 10,  6, 10],\n",
       "         [10,  3,  1, 10,  2, 10],\n",
       "         [ 1,  7,  1,  5,  9,  5],\n",
       "         [ 4,  4,  9,  9,  8,  1],\n",
       "         [ 4,  9,  8,  8,  2,  9]],\n",
       "\n",
       "        [[ 5,  8,  1,  5, 10,  1],\n",
       "         [ 7,  5,  3,  5,  7,  4],\n",
       "         [ 4,  8,  9,  6,  1,  9],\n",
       "         [ 6,  5,  8,  5,  2,  4],\n",
       "         [ 4, 10,  3,  6,  3,  4]],\n",
       "\n",
       "        [[ 6,  8,  3,  8,  2,  7],\n",
       "         [ 6,  1,  1,  4,  2, 10],\n",
       "         [10,  7,  7,  8,  9,  9],\n",
       "         [ 8,  1,  9,  7,  9, 10],\n",
       "         [ 9,  4,  7,  2,  8,  5]],\n",
       "\n",
       "        [[10,  3,  1,  9,  3,  8],\n",
       "         [ 9,  5,  5,  2,  8,  7],\n",
       "         [10,  5,  2,  6, 10,  8],\n",
       "         [ 2,  4,  6,  8,  4,  7],\n",
       "         [ 7,  8, 10,  2, 10,  7]]]], dtype=int32)"
      ]
     },
     "execution_count": 28,
     "metadata": {},
     "output_type": "execute_result"
    }
   ],
   "execution_count": 28
  },
  {
   "metadata": {
    "ExecuteTime": {
     "end_time": "2024-07-17T04:11:15.575057Z",
     "start_time": "2024-07-17T04:11:15.573031Z"
    }
   },
   "cell_type": "code",
   "source": "",
   "id": "ae84da405428327d",
   "outputs": [],
   "execution_count": 28
  },
  {
   "metadata": {
    "ExecuteTime": {
     "end_time": "2024-07-17T04:11:15.579674Z",
     "start_time": "2024-07-17T04:11:15.575057Z"
    }
   },
   "cell_type": "code",
   "source": "test2",
   "id": "95ef45f50f3bb7ea",
   "outputs": [
    {
     "data": {
      "text/plain": [
       "array([[0, 3, 8],\n",
       "       [4, 1, 4],\n",
       "       [5, 0, 3]], dtype=int32)"
      ]
     },
     "execution_count": 29,
     "metadata": {},
     "output_type": "execute_result"
    }
   ],
   "execution_count": 29
  },
  {
   "metadata": {
    "ExecuteTime": {
     "end_time": "2024-07-17T04:11:15.584856Z",
     "start_time": "2024-07-17T04:11:15.580359Z"
    }
   },
   "cell_type": "code",
   "source": [
    "test3=np.random.randint(0,10,size=(3,3,3))\n",
    "test3"
   ],
   "id": "cf60fdac5ef0475a",
   "outputs": [
    {
     "data": {
      "text/plain": [
       "array([[[1, 4, 4],\n",
       "        [4, 0, 0],\n",
       "        [8, 4, 6]],\n",
       "\n",
       "       [[9, 3, 3],\n",
       "        [2, 1, 2],\n",
       "        [1, 3, 4]],\n",
       "\n",
       "       [[1, 1, 0],\n",
       "        [7, 8, 4],\n",
       "        [3, 5, 6]]], dtype=int32)"
      ]
     },
     "execution_count": 30,
     "metadata": {},
     "output_type": "execute_result"
    }
   ],
   "execution_count": 30
  },
  {
   "metadata": {
    "ExecuteTime": {
     "end_time": "2024-07-17T04:11:15.590115Z",
     "start_time": "2024-07-17T04:11:15.585371Z"
    }
   },
   "cell_type": "code",
   "source": "test3[:2,:1]",
   "id": "7c4dbb85c36b76d9",
   "outputs": [
    {
     "data": {
      "text/plain": [
       "array([[[1, 4, 4]],\n",
       "\n",
       "       [[9, 3, 3]]], dtype=int32)"
      ]
     },
     "execution_count": 31,
     "metadata": {},
     "output_type": "execute_result"
    }
   ],
   "execution_count": 31
  },
  {
   "metadata": {
    "ExecuteTime": {
     "end_time": "2024-07-17T04:11:15.595206Z",
     "start_time": "2024-07-17T04:11:15.591651Z"
    }
   },
   "cell_type": "code",
   "source": "test2",
   "id": "f2e8bc3f8217cac5",
   "outputs": [
    {
     "data": {
      "text/plain": [
       "array([[0, 3, 8],\n",
       "       [4, 1, 4],\n",
       "       [5, 0, 3]], dtype=int32)"
      ]
     },
     "execution_count": 32,
     "metadata": {},
     "output_type": "execute_result"
    }
   ],
   "execution_count": 32
  },
  {
   "metadata": {
    "ExecuteTime": {
     "end_time": "2024-07-17T04:11:15.600218Z",
     "start_time": "2024-07-17T04:11:15.596215Z"
    }
   },
   "cell_type": "code",
   "source": "test2**2",
   "id": "5797f3aa45e5f2ae",
   "outputs": [
    {
     "data": {
      "text/plain": [
       "array([[ 0,  9, 64],\n",
       "       [16,  1, 16],\n",
       "       [25,  0,  9]], dtype=int32)"
      ]
     },
     "execution_count": 33,
     "metadata": {},
     "output_type": "execute_result"
    }
   ],
   "execution_count": 33
  },
  {
   "metadata": {
    "ExecuteTime": {
     "end_time": "2024-07-17T04:11:15.606483Z",
     "start_time": "2024-07-17T04:11:15.601264Z"
    }
   },
   "cell_type": "code",
   "source": "np.std(test2)",
   "id": "14fb8fd2905de877",
   "outputs": [
    {
     "data": {
      "text/plain": [
       "np.float64(2.4241582476968255)"
      ]
     },
     "execution_count": 34,
     "metadata": {},
     "output_type": "execute_result"
    }
   ],
   "execution_count": 34
  },
  {
   "metadata": {
    "ExecuteTime": {
     "end_time": "2024-07-17T04:11:15.611502Z",
     "start_time": "2024-07-17T04:11:15.607520Z"
    }
   },
   "cell_type": "code",
   "source": "np.sum(test3)",
   "id": "b94aef12a5f1824f",
   "outputs": [
    {
     "data": {
      "text/plain": [
       "np.int64(94)"
      ]
     },
     "execution_count": 35,
     "metadata": {},
     "output_type": "execute_result"
    }
   ],
   "execution_count": 35
  },
  {
   "metadata": {
    "ExecuteTime": {
     "end_time": "2024-07-17T04:11:15.655645Z",
     "start_time": "2024-07-17T04:11:15.651054Z"
    }
   },
   "cell_type": "code",
   "source": "np.sum(test_array)",
   "id": "41a105995765a621",
   "outputs": [
    {
     "data": {
      "text/plain": [
       "np.int64(1987)"
      ]
     },
     "execution_count": 36,
     "metadata": {},
     "output_type": "execute_result"
    }
   ],
   "execution_count": 36
  },
  {
   "metadata": {
    "ExecuteTime": {
     "end_time": "2024-07-17T04:11:15.898271Z",
     "start_time": "2024-07-17T04:11:15.894055Z"
    }
   },
   "cell_type": "code",
   "source": "np.mean(test_array)",
   "id": "6469af8dd34b50b7",
   "outputs": [
    {
     "data": {
      "text/plain": [
       "np.float64(5.519444444444445)"
      ]
     },
     "execution_count": 37,
     "metadata": {},
     "output_type": "execute_result"
    }
   ],
   "execution_count": 37
  },
  {
   "metadata": {
    "ExecuteTime": {
     "end_time": "2024-07-17T04:11:16.049532Z",
     "start_time": "2024-07-17T04:11:16.044837Z"
    }
   },
   "cell_type": "code",
   "source": "test2",
   "id": "32fcae013459aa9e",
   "outputs": [
    {
     "data": {
      "text/plain": [
       "array([[0, 3, 8],\n",
       "       [4, 1, 4],\n",
       "       [5, 0, 3]], dtype=int32)"
      ]
     },
     "execution_count": 38,
     "metadata": {},
     "output_type": "execute_result"
    }
   ],
   "execution_count": 38
  },
  {
   "metadata": {
    "ExecuteTime": {
     "end_time": "2024-07-17T04:11:16.068017Z",
     "start_time": "2024-07-17T04:11:16.063897Z"
    }
   },
   "cell_type": "code",
   "source": "test2.reshape(9,1)",
   "id": "3f59a820f4322b68",
   "outputs": [
    {
     "data": {
      "text/plain": [
       "array([[0],\n",
       "       [3],\n",
       "       [8],\n",
       "       [4],\n",
       "       [1],\n",
       "       [4],\n",
       "       [5],\n",
       "       [0],\n",
       "       [3]], dtype=int32)"
      ]
     },
     "execution_count": 39,
     "metadata": {},
     "output_type": "execute_result"
    }
   ],
   "execution_count": 39
  },
  {
   "metadata": {
    "ExecuteTime": {
     "end_time": "2024-07-17T04:11:16.108753Z",
     "start_time": "2024-07-17T04:11:16.103615Z"
    }
   },
   "cell_type": "code",
   "source": "test2.reshape(9,1).transpose()",
   "id": "84eb268955db2b83",
   "outputs": [
    {
     "data": {
      "text/plain": [
       "array([[0, 3, 8, 4, 1, 4, 5, 0, 3]], dtype=int32)"
      ]
     },
     "execution_count": 40,
     "metadata": {},
     "output_type": "execute_result"
    }
   ],
   "execution_count": 40
  },
  {
   "metadata": {
    "ExecuteTime": {
     "end_time": "2024-07-17T04:11:16.147311Z",
     "start_time": "2024-07-17T04:11:16.144081Z"
    }
   },
   "cell_type": "code",
   "source": [
    "mat1=np.random.randint(0,100,size=(5,3))\n",
    "mat2=np.random.randint(0,100,size=(3,1))"
   ],
   "id": "de935e5c08a47e89",
   "outputs": [],
   "execution_count": 41
  },
  {
   "metadata": {
    "ExecuteTime": {
     "end_time": "2024-07-17T04:11:16.163624Z",
     "start_time": "2024-07-17T04:11:16.159622Z"
    }
   },
   "cell_type": "code",
   "source": "np.dot(mat1,mat2)",
   "id": "45c27202029bb38e",
   "outputs": [
    {
     "data": {
      "text/plain": [
       "array([[10698],\n",
       "       [10368],\n",
       "       [16328],\n",
       "       [14502],\n",
       "       [ 9450]], dtype=int32)"
      ]
     },
     "execution_count": 42,
     "metadata": {},
     "output_type": "execute_result"
    }
   ],
   "execution_count": 42
  },
  {
   "metadata": {
    "ExecuteTime": {
     "end_time": "2024-07-17T04:11:16.178196Z",
     "start_time": "2024-07-17T04:11:16.176162Z"
    }
   },
   "cell_type": "code",
   "source": "",
   "id": "78ccd9e4bac74651",
   "outputs": [],
   "execution_count": 42
  },
  {
   "metadata": {
    "ExecuteTime": {
     "end_time": "2024-07-17T04:11:16.222374Z",
     "start_time": "2024-07-17T04:11:16.219574Z"
    }
   },
   "cell_type": "code",
   "source": "",
   "id": "e1cc543c9fd7338a",
   "outputs": [],
   "execution_count": 42
  }
 ],
 "metadata": {
  "kernelspec": {
   "display_name": "Python 3",
   "language": "python",
   "name": "python3"
  },
  "language_info": {
   "codemirror_mode": {
    "name": "ipython",
    "version": 2
   },
   "file_extension": ".py",
   "mimetype": "text/x-python",
   "name": "python",
   "nbconvert_exporter": "python",
   "pygments_lexer": "ipython2",
   "version": "2.7.6"
  }
 },
 "nbformat": 4,
 "nbformat_minor": 5
}
