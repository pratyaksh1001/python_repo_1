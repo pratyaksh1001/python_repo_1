{
 "cells": [
  {
   "metadata": {
    "ExecuteTime": {
     "end_time": "2025-02-11T09:29:18.032574Z",
     "start_time": "2025-02-11T09:29:18.030373Z"
    }
   },
   "cell_type": "code",
   "source": [
    "import pandas as pd\n",
    "import numpy as np\n",
    "import matplotlib.pyplot as plt\n",
    "import seaborn as sns"
   ],
   "id": "5b611ec0447aadca",
   "outputs": [],
   "execution_count": 4
  },
  {
   "metadata": {
    "ExecuteTime": {
     "end_time": "2025-02-11T09:29:18.080604Z",
     "start_time": "2025-02-11T09:29:18.078145Z"
    }
   },
   "cell_type": "code",
   "source": "import tensorflow as tf",
   "id": "e2ae18fba3778cbf",
   "outputs": [],
   "execution_count": 5
  },
  {
   "metadata": {
    "ExecuteTime": {
     "end_time": "2025-02-11T09:29:18.141801Z",
     "start_time": "2025-02-11T09:29:18.124686Z"
    }
   },
   "cell_type": "code",
   "source": "x=tf.Variable(100.11)",
   "id": "cd7ad8499b298273",
   "outputs": [],
   "execution_count": 6
  },
  {
   "metadata": {
    "ExecuteTime": {
     "end_time": "2025-02-11T09:29:18.191398Z",
     "start_time": "2025-02-11T09:29:18.186067Z"
    }
   },
   "cell_type": "code",
   "source": "x",
   "id": "ed4103d87aeff25e",
   "outputs": [
    {
     "data": {
      "text/plain": [
       "<tf.Variable 'Variable:0' shape=() dtype=float32, numpy=100.11>"
      ]
     },
     "execution_count": 7,
     "metadata": {},
     "output_type": "execute_result"
    }
   ],
   "execution_count": 7
  },
  {
   "metadata": {
    "ExecuteTime": {
     "end_time": "2025-02-11T09:29:18.245193Z",
     "start_time": "2025-02-11T09:29:18.239434Z"
    }
   },
   "cell_type": "code",
   "source": [
    "y=tf.Variable([[4.0]])\n",
    "y"
   ],
   "id": "509cd88c0b51f761",
   "outputs": [
    {
     "data": {
      "text/plain": [
       "<tf.Variable 'Variable:0' shape=(1, 1) dtype=float32, numpy=array([[4.]], dtype=float32)>"
      ]
     },
     "execution_count": 8,
     "metadata": {},
     "output_type": "execute_result"
    }
   ],
   "execution_count": 8
  },
  {
   "metadata": {
    "ExecuteTime": {
     "end_time": "2025-02-11T09:29:18.295759Z",
     "start_time": "2025-02-11T09:29:18.290920Z"
    }
   },
   "cell_type": "code",
   "source": [
    "z=tf.zeros(10)\n",
    "z"
   ],
   "id": "9dbd6e5b71c490f1",
   "outputs": [
    {
     "data": {
      "text/plain": [
       "<tf.Tensor: shape=(10,), dtype=float32, numpy=array([0., 0., 0., 0., 0., 0., 0., 0., 0., 0.], dtype=float32)>"
      ]
     },
     "execution_count": 9,
     "metadata": {},
     "output_type": "execute_result"
    }
   ],
   "execution_count": 9
  },
  {
   "metadata": {
    "ExecuteTime": {
     "end_time": "2025-02-11T09:29:18.337203Z",
     "start_time": "2025-02-11T09:29:18.332041Z"
    }
   },
   "cell_type": "code",
   "source": [
    "i=tf.eye(3)\n",
    "i"
   ],
   "id": "111c0ac339e7efcc",
   "outputs": [
    {
     "data": {
      "text/plain": [
       "<tf.Tensor: shape=(3, 3), dtype=float32, numpy=\n",
       "array([[1., 0., 0.],\n",
       "       [0., 1., 0.],\n",
       "       [0., 0., 1.]], dtype=float32)>"
      ]
     },
     "execution_count": 10,
     "metadata": {},
     "output_type": "execute_result"
    }
   ],
   "execution_count": 10
  },
  {
   "metadata": {
    "ExecuteTime": {
     "end_time": "2025-02-11T09:29:18.429540Z",
     "start_time": "2025-02-11T09:29:18.422577Z"
    }
   },
   "cell_type": "code",
   "source": [
    "u=tf.random.uniform(shape=[10,1],minval=-1,maxval=1)\n",
    "u"
   ],
   "id": "56c12dffbe1a88d2",
   "outputs": [
    {
     "data": {
      "text/plain": [
       "<tf.Tensor: shape=(10, 1), dtype=float32, numpy=\n",
       "array([[-0.23200727],\n",
       "       [-0.5083606 ],\n",
       "       [-0.43458295],\n",
       "       [-0.6827915 ],\n",
       "       [-0.48472786],\n",
       "       [ 0.5075307 ],\n",
       "       [ 0.99245524],\n",
       "       [-0.9670007 ],\n",
       "       [ 0.7649741 ],\n",
       "       [-0.67801857]], dtype=float32)>"
      ]
     },
     "execution_count": 11,
     "metadata": {},
     "output_type": "execute_result"
    }
   ],
   "execution_count": 11
  },
  {
   "metadata": {
    "ExecuteTime": {
     "end_time": "2025-02-11T09:29:54.084403Z",
     "start_time": "2025-02-11T09:29:54.082284Z"
    }
   },
   "cell_type": "code",
   "source": "from tensorflow import keras",
   "id": "6eb8d35edff833c0",
   "outputs": [],
   "execution_count": 16
  },
  {
   "metadata": {
    "ExecuteTime": {
     "end_time": "2025-02-11T09:29:48.822279Z",
     "start_time": "2025-02-11T09:29:48.820559Z"
    }
   },
   "cell_type": "code",
   "source": "",
   "id": "2a9f93b8f0f19db6",
   "outputs": [],
   "execution_count": null
  },
  {
   "metadata": {
    "ExecuteTime": {
     "end_time": "2025-02-11T09:29:49.550925Z",
     "start_time": "2025-02-11T09:29:49.537038Z"
    }
   },
   "cell_type": "code",
   "source": "from tensorflow.keras.datasets import mnist",
   "id": "29ee1b85340e58d0",
   "outputs": [
    {
     "ename": "ModuleNotFoundError",
     "evalue": "No module named 'tensorflow.keras'",
     "output_type": "error",
     "traceback": [
      "\u001B[0;31m---------------------------------------------------------------------------\u001B[0m",
      "\u001B[0;31mModuleNotFoundError\u001B[0m                       Traceback (most recent call last)",
      "Cell \u001B[0;32mIn[15], line 1\u001B[0m\n\u001B[0;32m----> 1\u001B[0m \u001B[38;5;28;01mfrom\u001B[39;00m \u001B[38;5;21;01mtensorflow\u001B[39;00m\u001B[38;5;21;01m.\u001B[39;00m\u001B[38;5;21;01mkeras\u001B[39;00m\u001B[38;5;21;01m.\u001B[39;00m\u001B[38;5;21;01mdatasets\u001B[39;00m \u001B[38;5;28;01mimport\u001B[39;00m mnist\n",
      "\u001B[0;31mModuleNotFoundError\u001B[0m: No module named 'tensorflow.keras'"
     ]
    }
   ],
   "execution_count": 15
  },
  {
   "metadata": {
    "ExecuteTime": {
     "end_time": "2025-02-11T09:29:18.835570031Z",
     "start_time": "2024-09-27T07:23:00.532271Z"
    }
   },
   "cell_type": "code",
   "source": "(x_train, y_train), (x_test, y_test) = mnist.load_data()",
   "id": "1ad66af812c7a0cd",
   "outputs": [],
   "execution_count": 22
  },
  {
   "metadata": {
    "ExecuteTime": {
     "end_time": "2025-02-11T09:29:18.853631299Z",
     "start_time": "2024-09-27T07:23:08.622921Z"
    }
   },
   "cell_type": "code",
   "source": "x_train",
   "id": "9e94fefd468e2c20",
   "outputs": [
    {
     "data": {
      "text/plain": [
       "array([[[0, 0, 0, ..., 0, 0, 0],\n",
       "        [0, 0, 0, ..., 0, 0, 0],\n",
       "        [0, 0, 0, ..., 0, 0, 0],\n",
       "        ...,\n",
       "        [0, 0, 0, ..., 0, 0, 0],\n",
       "        [0, 0, 0, ..., 0, 0, 0],\n",
       "        [0, 0, 0, ..., 0, 0, 0]],\n",
       "\n",
       "       [[0, 0, 0, ..., 0, 0, 0],\n",
       "        [0, 0, 0, ..., 0, 0, 0],\n",
       "        [0, 0, 0, ..., 0, 0, 0],\n",
       "        ...,\n",
       "        [0, 0, 0, ..., 0, 0, 0],\n",
       "        [0, 0, 0, ..., 0, 0, 0],\n",
       "        [0, 0, 0, ..., 0, 0, 0]],\n",
       "\n",
       "       [[0, 0, 0, ..., 0, 0, 0],\n",
       "        [0, 0, 0, ..., 0, 0, 0],\n",
       "        [0, 0, 0, ..., 0, 0, 0],\n",
       "        ...,\n",
       "        [0, 0, 0, ..., 0, 0, 0],\n",
       "        [0, 0, 0, ..., 0, 0, 0],\n",
       "        [0, 0, 0, ..., 0, 0, 0]],\n",
       "\n",
       "       ...,\n",
       "\n",
       "       [[0, 0, 0, ..., 0, 0, 0],\n",
       "        [0, 0, 0, ..., 0, 0, 0],\n",
       "        [0, 0, 0, ..., 0, 0, 0],\n",
       "        ...,\n",
       "        [0, 0, 0, ..., 0, 0, 0],\n",
       "        [0, 0, 0, ..., 0, 0, 0],\n",
       "        [0, 0, 0, ..., 0, 0, 0]],\n",
       "\n",
       "       [[0, 0, 0, ..., 0, 0, 0],\n",
       "        [0, 0, 0, ..., 0, 0, 0],\n",
       "        [0, 0, 0, ..., 0, 0, 0],\n",
       "        ...,\n",
       "        [0, 0, 0, ..., 0, 0, 0],\n",
       "        [0, 0, 0, ..., 0, 0, 0],\n",
       "        [0, 0, 0, ..., 0, 0, 0]],\n",
       "\n",
       "       [[0, 0, 0, ..., 0, 0, 0],\n",
       "        [0, 0, 0, ..., 0, 0, 0],\n",
       "        [0, 0, 0, ..., 0, 0, 0],\n",
       "        ...,\n",
       "        [0, 0, 0, ..., 0, 0, 0],\n",
       "        [0, 0, 0, ..., 0, 0, 0],\n",
       "        [0, 0, 0, ..., 0, 0, 0]]], dtype=uint8)"
      ]
     },
     "execution_count": 23,
     "metadata": {},
     "output_type": "execute_result"
    }
   ],
   "execution_count": 23
  },
  {
   "metadata": {
    "ExecuteTime": {
     "end_time": "2025-02-11T09:29:18.854634525Z",
     "start_time": "2024-09-27T07:23:20.019648Z"
    }
   },
   "cell_type": "code",
   "source": "x_train.shape",
   "id": "31e2e6a5942b28e",
   "outputs": [
    {
     "data": {
      "text/plain": [
       "(60000, 28, 28)"
      ]
     },
     "execution_count": 24,
     "metadata": {},
     "output_type": "execute_result"
    }
   ],
   "execution_count": 24
  },
  {
   "metadata": {
    "ExecuteTime": {
     "end_time": "2025-02-11T09:29:18.855079852Z",
     "start_time": "2024-09-27T07:24:37.358437Z"
    }
   },
   "cell_type": "code",
   "source": "x_train=x_train.reshape(-1,28*28).astype('float32')",
   "id": "2f7a222bf6b5b940",
   "outputs": [],
   "execution_count": 27
  },
  {
   "metadata": {
    "ExecuteTime": {
     "end_time": "2025-02-11T09:29:18.861639211Z",
     "start_time": "2024-09-27T07:24:37.682463Z"
    }
   },
   "cell_type": "code",
   "source": "x_test=x_test.reshape(-1,28*28).astype('float32')",
   "id": "95876acb1dd61f47",
   "outputs": [],
   "execution_count": 28
  },
  {
   "metadata": {
    "ExecuteTime": {
     "end_time": "2025-02-11T09:29:18.862482967Z",
     "start_time": "2024-09-27T07:26:08.016920Z"
    }
   },
   "cell_type": "code",
   "source": [
    "model=keras.Sequential([\n",
    "    layers.Dense(512,activation=\"relu\"),\n",
    "    layers.Dense(256,activation=\"relu\"),\n",
    "    layers.Dense(10),\n",
    "])"
   ],
   "id": "ad0cb9ffa6a53345",
   "outputs": [],
   "execution_count": 29
  },
  {
   "metadata": {
    "ExecuteTime": {
     "end_time": "2025-02-11T09:29:18.863528051Z",
     "start_time": "2024-09-27T07:28:13.437291Z"
    }
   },
   "cell_type": "code",
   "source": [
    "model.compile(loss=tf.keras.losses.SparseCategoricalCrossentropy(from_logits=True),\n",
    "              optimizer=tf.keras.optimizers.Adam(),\n",
    "              metrics=['accuracy'])"
   ],
   "id": "f6880bfe32694633",
   "outputs": [],
   "execution_count": 32
  },
  {
   "metadata": {
    "ExecuteTime": {
     "end_time": "2025-02-11T09:29:18.865524013Z",
     "start_time": "2024-09-27T07:28:15.906898Z"
    }
   },
   "cell_type": "code",
   "source": "model.fit(x_train,y_train,epochs=10,verbose=2)",
   "id": "fe5d57d81ddf5daf",
   "outputs": [
    {
     "name": "stdout",
     "output_type": "stream",
     "text": [
      "Epoch 1/10\n",
      "1875/1875 - 7s - 4ms/step - accuracy: 0.9038 - loss: 1.4279\n",
      "Epoch 2/10\n",
      "1875/1875 - 6s - 3ms/step - accuracy: 0.9457 - loss: 0.2028\n",
      "Epoch 3/10\n",
      "1875/1875 - 6s - 3ms/step - accuracy: 0.9544 - loss: 0.1721\n",
      "Epoch 4/10\n",
      "1875/1875 - 6s - 3ms/step - accuracy: 0.9586 - loss: 0.1503\n",
      "Epoch 5/10\n",
      "1875/1875 - 5s - 3ms/step - accuracy: 0.9627 - loss: 0.1374\n",
      "Epoch 6/10\n",
      "1875/1875 - 5s - 3ms/step - accuracy: 0.9682 - loss: 0.1213\n",
      "Epoch 7/10\n",
      "1875/1875 - 6s - 3ms/step - accuracy: 0.9706 - loss: 0.1152\n",
      "Epoch 8/10\n",
      "1875/1875 - 5s - 3ms/step - accuracy: 0.9750 - loss: 0.0980\n",
      "Epoch 9/10\n",
      "1875/1875 - 6s - 3ms/step - accuracy: 0.9776 - loss: 0.0899\n",
      "Epoch 10/10\n",
      "1875/1875 - 5s - 3ms/step - accuracy: 0.9785 - loss: 0.0825\n"
     ]
    },
    {
     "data": {
      "text/plain": [
       "<keras.src.callbacks.history.History at 0x2106648c3b0>"
      ]
     },
     "execution_count": 33,
     "metadata": {},
     "output_type": "execute_result"
    }
   ],
   "execution_count": 33
  },
  {
   "metadata": {
    "ExecuteTime": {
     "end_time": "2025-02-11T09:29:18.866910729Z",
     "start_time": "2024-09-27T07:29:12.357007Z"
    }
   },
   "cell_type": "code",
   "source": "model.evaluate(x_test,y_test,verbose=2)",
   "id": "b1e7d3ec457d3192",
   "outputs": [
    {
     "name": "stdout",
     "output_type": "stream",
     "text": [
      "313/313 - 0s - 1ms/step - accuracy: 0.9689 - loss: 0.1627\n"
     ]
    },
    {
     "data": {
      "text/plain": [
       "[0.162698432803154, 0.9689000248908997]"
      ]
     },
     "execution_count": 34,
     "metadata": {},
     "output_type": "execute_result"
    }
   ],
   "execution_count": 34
  },
  {
   "metadata": {},
   "cell_type": "code",
   "outputs": [],
   "execution_count": null,
   "source": "",
   "id": "dcb21b317644c858"
  }
 ],
 "metadata": {
  "kernelspec": {
   "display_name": "Python 3",
   "language": "python",
   "name": "python3"
  },
  "language_info": {
   "codemirror_mode": {
    "name": "ipython",
    "version": 2
   },
   "file_extension": ".py",
   "mimetype": "text/x-python",
   "name": "python",
   "nbconvert_exporter": "python",
   "pygments_lexer": "ipython2",
   "version": "2.7.6"
  }
 },
 "nbformat": 4,
 "nbformat_minor": 5
}
