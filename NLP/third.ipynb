{
 "cells": [
  {
   "cell_type": "code",
   "id": "initial_id",
   "metadata": {
    "collapsed": true,
    "ExecuteTime": {
     "end_time": "2025-03-16T09:52:36.838425Z",
     "start_time": "2025-03-16T09:52:33.701866Z"
    }
   },
   "source": "from tensorflow.keras.preprocessing.text import Tokenizer",
   "outputs": [
    {
     "name": "stderr",
     "output_type": "stream",
     "text": [
      "2025-03-16 15:22:33.906838: I external/local_xla/xla/tsl/cuda/cudart_stub.cc:32] Could not find cuda drivers on your machine, GPU will not be used.\n",
      "2025-03-16 15:22:33.909697: I external/local_xla/xla/tsl/cuda/cudart_stub.cc:32] Could not find cuda drivers on your machine, GPU will not be used.\n",
      "2025-03-16 15:22:33.917461: E external/local_xla/xla/stream_executor/cuda/cuda_fft.cc:477] Unable to register cuFFT factory: Attempting to register factory for plugin cuFFT when one has already been registered\n",
      "WARNING: All log messages before absl::InitializeLog() is called are written to STDERR\n",
      "E0000 00:00:1742118753.931364   58824 cuda_dnn.cc:8310] Unable to register cuDNN factory: Attempting to register factory for plugin cuDNN when one has already been registered\n",
      "E0000 00:00:1742118753.935125   58824 cuda_blas.cc:1418] Unable to register cuBLAS factory: Attempting to register factory for plugin cuBLAS when one has already been registered\n",
      "2025-03-16 15:22:33.949654: I tensorflow/core/platform/cpu_feature_guard.cc:210] This TensorFlow binary is optimized to use available CPU instructions in performance-critical operations.\n",
      "To enable the following instructions: AVX2 FMA, in other operations, rebuild TensorFlow with the appropriate compiler flags.\n"
     ]
    }
   ],
   "execution_count": 1
  },
  {
   "metadata": {
    "ExecuteTime": {
     "end_time": "2025-03-16T09:52:36.850011Z",
     "start_time": "2025-03-16T09:52:36.846712Z"
    }
   },
   "cell_type": "code",
   "source": "tokenizer = Tokenizer(oov_token=\"<OOV>\")",
   "id": "7ae551de8e08c1ca",
   "outputs": [],
   "execution_count": 2
  },
  {
   "metadata": {
    "ExecuteTime": {
     "end_time": "2025-03-16T09:52:36.949697Z",
     "start_time": "2025-03-16T09:52:36.947620Z"
    }
   },
   "cell_type": "code",
   "source": [
    "words=[\n",
    "    \"hello world my name is pratyaksh\",\n",
    "    \"i love dogs\",\n",
    "    \"i love cows!\"\n",
    "]"
   ],
   "id": "ba8b86d8d8ffabab",
   "outputs": [],
   "execution_count": 3
  },
  {
   "metadata": {
    "ExecuteTime": {
     "end_time": "2025-03-16T09:52:36.995937Z",
     "start_time": "2025-03-16T09:52:36.993585Z"
    }
   },
   "cell_type": "code",
   "source": "tokenizer.fit_on_texts(words)",
   "id": "74b21438f724283a",
   "outputs": [],
   "execution_count": 4
  },
  {
   "metadata": {
    "ExecuteTime": {
     "end_time": "2025-03-16T09:52:37.045115Z",
     "start_time": "2025-03-16T09:52:37.043052Z"
    }
   },
   "cell_type": "code",
   "source": "word_index = tokenizer.word_index",
   "id": "7e490097a3c401e9",
   "outputs": [],
   "execution_count": 5
  },
  {
   "metadata": {
    "ExecuteTime": {
     "end_time": "2025-03-16T09:52:37.098287Z",
     "start_time": "2025-03-16T09:52:37.094250Z"
    }
   },
   "cell_type": "code",
   "source": "word_index",
   "id": "cef3c2e70a332274",
   "outputs": [
    {
     "data": {
      "text/plain": [
       "{'<OOV>': 1,\n",
       " 'i': 2,\n",
       " 'love': 3,\n",
       " 'hello': 4,\n",
       " 'world': 5,\n",
       " 'my': 6,\n",
       " 'name': 7,\n",
       " 'is': 8,\n",
       " 'pratyaksh': 9,\n",
       " 'dogs': 10,\n",
       " 'cows': 11}"
      ]
     },
     "execution_count": 6,
     "metadata": {},
     "output_type": "execute_result"
    }
   ],
   "execution_count": 6
  },
  {
   "metadata": {
    "ExecuteTime": {
     "end_time": "2025-03-16T09:52:37.148517Z",
     "start_time": "2025-03-16T09:52:37.146498Z"
    }
   },
   "cell_type": "code",
   "source": "sentences=[\"pratyaksh love animals\"]",
   "id": "fed6c2ecfb4c317f",
   "outputs": [],
   "execution_count": 7
  },
  {
   "metadata": {
    "ExecuteTime": {
     "end_time": "2025-03-16T09:52:37.199732Z",
     "start_time": "2025-03-16T09:52:37.195983Z"
    }
   },
   "cell_type": "code",
   "source": [
    "seqs = tokenizer.texts_to_sequences(words)\n",
    "seqs"
   ],
   "id": "7621fde071459bb8",
   "outputs": [
    {
     "data": {
      "text/plain": [
       "[[4, 5, 6, 7, 8, 9], [2, 3, 10], [2, 3, 11]]"
      ]
     },
     "execution_count": 8,
     "metadata": {},
     "output_type": "execute_result"
    }
   ],
   "execution_count": 8
  },
  {
   "metadata": {
    "ExecuteTime": {
     "end_time": "2025-03-16T09:52:37.310248Z",
     "start_time": "2025-03-16T09:52:37.308348Z"
    }
   },
   "cell_type": "code",
   "source": "test=tokenizer.texts_to_sequences(sentences)",
   "id": "529c82d201fcba1e",
   "outputs": [],
   "execution_count": 9
  },
  {
   "metadata": {
    "ExecuteTime": {
     "end_time": "2025-03-16T09:52:37.359607Z",
     "start_time": "2025-03-16T09:52:37.356989Z"
    }
   },
   "cell_type": "code",
   "source": "test",
   "id": "5cbbbba3821415cb",
   "outputs": [
    {
     "data": {
      "text/plain": [
       "[[9, 3, 1]]"
      ]
     },
     "execution_count": 10,
     "metadata": {},
     "output_type": "execute_result"
    }
   ],
   "execution_count": 10
  },
  {
   "metadata": {
    "ExecuteTime": {
     "end_time": "2025-03-16T09:53:45.094480Z",
     "start_time": "2025-03-16T09:53:45.092246Z"
    }
   },
   "cell_type": "code",
   "source": "",
   "id": "ae8e6ed6d39b99a9",
   "outputs": [],
   "execution_count": 13
  },
  {
   "metadata": {},
   "cell_type": "markdown",
   "source": "multithreading",
   "id": "afb5c72dea4493b6"
  },
  {
   "metadata": {
    "ExecuteTime": {
     "end_time": "2025-03-16T09:56:37.324822Z",
     "start_time": "2025-03-16T09:56:32.319358Z"
    }
   },
   "cell_type": "code",
   "source": [
    "import threading\n",
    "import time\n",
    "def first(x):\n",
    "    time.sleep(5)\n",
    "    print(f\"x is {x}\")\n",
    "def second(y):\n",
    "    time.sleep(5)\n",
    "    print(f\"y is {y}\")\n",
    "def third(z):\n",
    "    time.sleep(5)\n",
    "    print(f\"z is {z}\")\n",
    "a=threading.Thread(target=first, args=(1,))\n",
    "b=threading.Thread(target=second, args=(2,))\n",
    "c=threading.Thread(target=third, args=(3,))\n",
    "a.start()\n",
    "b.start()\n",
    "c.start()\n",
    "a.join()\n",
    "b.join()\n",
    "c.join()"
   ],
   "id": "e5fb268690bff98b",
   "outputs": [
    {
     "name": "stdout",
     "output_type": "stream",
     "text": [
      "x is 1\n",
      "z is 3\n",
      "y is 2\n"
     ]
    }
   ],
   "execution_count": 19
  },
  {
   "metadata": {
    "ExecuteTime": {
     "end_time": "2025-03-16T09:55:25.787079Z",
     "start_time": "2025-03-16T09:55:25.784429Z"
    }
   },
   "cell_type": "code",
   "source": "",
   "id": "579d4d704533985b",
   "outputs": [],
   "execution_count": 16
  },
  {
   "metadata": {
    "ExecuteTime": {
     "end_time": "2025-03-16T09:55:44.563679Z",
     "start_time": "2025-03-16T09:55:44.561316Z"
    }
   },
   "cell_type": "code",
   "source": "",
   "id": "d2553606fb90a0e",
   "outputs": [],
   "execution_count": 17
  },
  {
   "metadata": {},
   "cell_type": "code",
   "outputs": [],
   "execution_count": null,
   "source": "",
   "id": "bd28201ad4b7424b"
  }
 ],
 "metadata": {
  "kernelspec": {
   "display_name": "Python 3",
   "language": "python",
   "name": "python3"
  },
  "language_info": {
   "codemirror_mode": {
    "name": "ipython",
    "version": 2
   },
   "file_extension": ".py",
   "mimetype": "text/x-python",
   "name": "python",
   "nbconvert_exporter": "python",
   "pygments_lexer": "ipython2",
   "version": "2.7.6"
  }
 },
 "nbformat": 4,
 "nbformat_minor": 5
}
