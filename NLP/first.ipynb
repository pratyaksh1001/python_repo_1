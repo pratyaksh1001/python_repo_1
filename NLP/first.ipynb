{
 "cells": [
  {
   "cell_type": "code",
   "id": "initial_id",
   "metadata": {
    "collapsed": true,
    "ExecuteTime": {
     "end_time": "2024-09-09T04:02:49.397133Z",
     "start_time": "2024-09-09T04:02:47.028487Z"
    }
   },
   "source": [
    "import spacy\n",
    "import numpy as np"
   ],
   "outputs": [],
   "execution_count": 1
  },
  {
   "metadata": {
    "ExecuteTime": {
     "end_time": "2024-09-09T04:02:50.129616Z",
     "start_time": "2024-09-09T04:02:49.398150Z"
    }
   },
   "cell_type": "code",
   "source": "nlp=spacy.load('en_core_web_sm')",
   "id": "b81313b49314187d",
   "outputs": [],
   "execution_count": 2
  },
  {
   "metadata": {
    "ExecuteTime": {
     "end_time": "2024-09-09T04:02:50.140567Z",
     "start_time": "2024-09-09T04:02:50.130625Z"
    }
   },
   "cell_type": "code",
   "source": "text=open(\"USA.txt\",\"r\")",
   "id": "ffb23824e3a12abd",
   "outputs": [],
   "execution_count": 3
  },
  {
   "metadata": {
    "ExecuteTime": {
     "end_time": "2024-09-09T04:02:50.292622Z",
     "start_time": "2024-09-09T04:02:50.155179Z"
    }
   },
   "cell_type": "code",
   "source": [
    "doc=nlp(text.read())\n",
    "text.seek(0)"
   ],
   "id": "6ee81f5537653f2b",
   "outputs": [
    {
     "data": {
      "text/plain": [
       "0"
      ]
     },
     "execution_count": 4,
     "metadata": {},
     "output_type": "execute_result"
    }
   ],
   "execution_count": 4
  },
  {
   "metadata": {
    "ExecuteTime": {
     "end_time": "2024-09-09T04:02:50.308525Z",
     "start_time": "2024-09-09T04:02:50.295113Z"
    }
   },
   "cell_type": "code",
   "source": "len(doc)",
   "id": "67fc0300bc251bc",
   "outputs": [
    {
     "data": {
      "text/plain": [
       "597"
      ]
     },
     "execution_count": 5,
     "metadata": {},
     "output_type": "execute_result"
    }
   ],
   "execution_count": 5
  },
  {
   "metadata": {
    "ExecuteTime": {
     "end_time": "2024-09-09T04:02:50.315010Z",
     "start_time": "2024-09-09T04:02:50.309534Z"
    }
   },
   "cell_type": "code",
   "source": "len(text.read())",
   "id": "d852f261ed5263e5",
   "outputs": [
    {
     "data": {
      "text/plain": [
       "3314"
      ]
     },
     "execution_count": 6,
     "metadata": {},
     "output_type": "execute_result"
    }
   ],
   "execution_count": 6
  },
  {
   "metadata": {
    "ExecuteTime": {
     "end_time": "2024-09-09T04:02:50.326555Z",
     "start_time": "2024-09-09T04:02:50.316022Z"
    }
   },
   "cell_type": "code",
   "source": [
    "for token in doc:\n",
    "    print(token)"
   ],
   "id": "b26c2248dd312889",
   "outputs": [
    {
     "name": "stdout",
     "output_type": "stream",
     "text": [
      "The\n",
      "United\n",
      "States\n",
      "of\n",
      "America\n",
      "(\n",
      "USA\n",
      "or\n",
      "U.S.A.\n",
      ")\n",
      ",\n",
      "commonly\n",
      "known\n",
      "as\n",
      "the\n",
      "United\n",
      "States\n",
      "(\n",
      "US\n",
      "or\n",
      "U.S.\n",
      ")\n",
      "or\n",
      "America\n",
      ",\n",
      "is\n",
      "a\n",
      "country\n",
      "primarily\n",
      "located\n",
      "in\n",
      "North\n",
      "America\n",
      ".\n",
      "It\n",
      "is\n",
      "a\n",
      "federal\n",
      "union\n",
      "of\n",
      "50\n",
      "states\n",
      ",\n",
      "the\n",
      "federal\n",
      "capital\n",
      "district\n",
      "of\n",
      "Washington\n",
      ",\n",
      "D.C.\n",
      ",\n",
      "and\n",
      "326\n",
      "Indian\n",
      "reservations.[j\n",
      "]\n",
      "The\n",
      "48\n",
      "contiguous\n",
      "states\n",
      "are\n",
      "bordered\n",
      "by\n",
      "Canada\n",
      "to\n",
      "the\n",
      "north\n",
      "and\n",
      "Mexico\n",
      "to\n",
      "the\n",
      "south\n",
      ".\n",
      "The\n",
      "State\n",
      "of\n",
      "Alaska\n",
      "lies\n",
      "to\n",
      "the\n",
      "northwest\n",
      ",\n",
      "while\n",
      "the\n",
      "State\n",
      "of\n",
      "Hawaii\n",
      "is\n",
      "an\n",
      "archipelago\n",
      "in\n",
      "the\n",
      "Pacific\n",
      "Ocean\n",
      ".\n",
      "The\n",
      "United\n",
      "States\n",
      "also\n",
      "asserts\n",
      "sovereignty\n",
      "over\n",
      "five\n",
      "major\n",
      "island\n",
      "territories\n",
      "and\n",
      "various\n",
      "uninhabited\n",
      "islands.[k\n",
      "]\n",
      "The\n",
      "country\n",
      "has\n",
      "the\n",
      "world\n",
      "'s\n",
      "third\n",
      "-\n",
      "largest\n",
      "land\n",
      "area,[d\n",
      "]\n",
      "second\n",
      "-\n",
      "largest\n",
      "exclusive\n",
      "economic\n",
      "zone\n",
      ",\n",
      "and\n",
      "third\n",
      "-\n",
      "largest\n",
      "population\n",
      ",\n",
      "exceeding\n",
      "334\n",
      "million.[l\n",
      "]\n",
      "\n",
      "\n",
      "\n",
      "Paleo\n",
      "-\n",
      "Indians\n",
      "migrated\n",
      "across\n",
      "the\n",
      "Bering\n",
      "land\n",
      "bridge\n",
      "more\n",
      "than\n",
      "12,000\n",
      "years\n",
      "ago\n",
      ",\n",
      "and\n",
      "went\n",
      "on\n",
      "to\n",
      "form\n",
      "various\n",
      "civilizations\n",
      "and\n",
      "societies\n",
      ".\n",
      "British\n",
      "colonization\n",
      "led\n",
      "to\n",
      "the\n",
      "first\n",
      "settlement\n",
      "of\n",
      "the\n",
      "Thirteen\n",
      "Colonies\n",
      "in\n",
      "Virginia\n",
      "in\n",
      "1607\n",
      ".\n",
      "Clashes\n",
      "with\n",
      "the\n",
      "British\n",
      "Crown\n",
      "over\n",
      "taxation\n",
      "and\n",
      "political\n",
      "representation\n",
      "sparked\n",
      "the\n",
      "American\n",
      "Revolution\n",
      ",\n",
      "with\n",
      "the\n",
      "Second\n",
      "Continental\n",
      "Congress\n",
      "formally\n",
      "declaring\n",
      "independence\n",
      "on\n",
      "July\n",
      "4\n",
      ",\n",
      "1776\n",
      ".\n",
      "Following\n",
      "its\n",
      "victory\n",
      "in\n",
      "the\n",
      "1775â€“1783\n",
      "Revolutionary\n",
      "War\n",
      ",\n",
      "the\n",
      "country\n",
      "continued\n",
      "to\n",
      "expand\n",
      "across\n",
      "North\n",
      "America\n",
      ".\n",
      "As\n",
      "more\n",
      "states\n",
      "were\n",
      "admitted\n",
      ",\n",
      "a\n",
      "North\n",
      "-\n",
      "South\n",
      "sectional\n",
      "division\n",
      "over\n",
      "slavery\n",
      "led\n",
      "to\n",
      "the\n",
      "secession\n",
      "of\n",
      "the\n",
      "Confederate\n",
      "States\n",
      "of\n",
      "America\n",
      ",\n",
      "which\n",
      "fought\n",
      "the\n",
      "remaining\n",
      "states\n",
      "of\n",
      "the\n",
      "Union\n",
      "during\n",
      "the\n",
      "1861â€“1865\n",
      "American\n",
      "Civil\n",
      "War\n",
      ".\n",
      "With\n",
      "the\n",
      "Union\n",
      "'s\n",
      "victory\n",
      "and\n",
      "preservation\n",
      ",\n",
      "slavery\n",
      "was\n",
      "abolished\n",
      "nationally\n",
      ".\n",
      "By\n",
      "1890\n",
      ",\n",
      "the\n",
      "United\n",
      "States\n",
      "had\n",
      "established\n",
      "itself\n",
      "as\n",
      "a\n",
      "great\n",
      "power\n",
      ".\n",
      "After\n",
      "Japan\n",
      "'s\n",
      "attack\n",
      "on\n",
      "Pearl\n",
      "Harbor\n",
      "in\n",
      "December\n",
      "1941\n",
      ",\n",
      "the\n",
      "U.S.\n",
      "entered\n",
      "World\n",
      "War\n",
      "II\n",
      ".\n",
      "The\n",
      "aftermath\n",
      "of\n",
      "the\n",
      "war\n",
      "left\n",
      "the\n",
      "U.S.\n",
      "and\n",
      "the\n",
      "Soviet\n",
      "Union\n",
      "as\n",
      "the\n",
      "world\n",
      "'s\n",
      "two\n",
      "superpowers\n",
      "and\n",
      "led\n",
      "to\n",
      "the\n",
      "Cold\n",
      "War\n",
      ",\n",
      "during\n",
      "which\n",
      "both\n",
      "countries\n",
      "engaged\n",
      "in\n",
      "a\n",
      "struggle\n",
      "for\n",
      "ideological\n",
      "dominance\n",
      "and\n",
      "international\n",
      "influence\n",
      ".\n",
      "Following\n",
      "the\n",
      "Soviet\n",
      "Union\n",
      "'s\n",
      "collapse\n",
      "and\n",
      "the\n",
      "end\n",
      "of\n",
      "the\n",
      "Cold\n",
      "War\n",
      "in\n",
      "1991\n",
      ",\n",
      "the\n",
      "U.S.\n",
      "emerged\n",
      "as\n",
      "the\n",
      "world\n",
      "'s\n",
      "sole\n",
      "superpower\n",
      ",\n",
      "wielding\n",
      "significant\n",
      "geopolitical\n",
      "influence\n",
      "globally\n",
      ".\n",
      "\n",
      "\n",
      "\n",
      "The\n",
      "U.S.\n",
      "national\n",
      "government\n",
      "is\n",
      "a\n",
      "presidential\n",
      "constitutional\n",
      "federal\n",
      "republic\n",
      "and\n",
      "liberal\n",
      "democracy\n",
      "with\n",
      "three\n",
      "separate\n",
      "branches\n",
      ":\n",
      "legislative\n",
      ",\n",
      "executive\n",
      ",\n",
      "and\n",
      "judicial\n",
      ".\n",
      "It\n",
      "has\n",
      "a\n",
      "bicameral\n",
      "national\n",
      "legislature\n",
      "composed\n",
      "of\n",
      "the\n",
      "House\n",
      "of\n",
      "Representatives\n",
      ",\n",
      "a\n",
      "lower\n",
      "house\n",
      "based\n",
      "on\n",
      "population\n",
      ";\n",
      "and\n",
      "the\n",
      "Senate\n",
      ",\n",
      "an\n",
      "upper\n",
      "house\n",
      "based\n",
      "on\n",
      "equal\n",
      "representation\n",
      "for\n",
      "each\n",
      "state\n",
      ".\n",
      "Substantial\n",
      "autonomy\n",
      "is\n",
      "provided\n",
      "by\n",
      "federalism\n",
      ",\n",
      "with\n",
      "a\n",
      "political\n",
      "culture\n",
      "promoting\n",
      "liberty\n",
      ",\n",
      "equality\n",
      ",\n",
      "individualism\n",
      ",\n",
      "personal\n",
      "autonomy\n",
      ",\n",
      "and\n",
      "limited\n",
      "government\n",
      ".\n",
      "\n",
      "\n",
      "\n",
      "One\n",
      "of\n",
      "the\n",
      "world\n",
      "'s\n",
      "most\n",
      "developed\n",
      "countries\n",
      ",\n",
      "the\n",
      "United\n",
      "States\n",
      "has\n",
      "had\n",
      "the\n",
      "largest\n",
      "nominal\n",
      "GDP\n",
      "since\n",
      "about\n",
      "1890\n",
      "and\n",
      "accounted\n",
      "for\n",
      "15\n",
      "%\n",
      "of\n",
      "the\n",
      "global\n",
      "economy\n",
      "in\n",
      "2023.[m\n",
      "]\n",
      "It\n",
      "possesses\n",
      "by\n",
      "far\n",
      "the\n",
      "largest\n",
      "amount\n",
      "of\n",
      "wealth\n",
      "of\n",
      "any\n",
      "country\n",
      "and\n",
      "has\n",
      "the\n",
      "highest\n",
      "disposable\n",
      "household\n",
      "income\n",
      "per\n",
      "capita\n",
      "among\n",
      "OECD\n",
      "countries\n",
      ".\n",
      "The\n",
      "U.S.\n",
      "ranks\n",
      "among\n",
      "the\n",
      "world\n",
      "'s\n",
      "highest\n",
      "in\n",
      "economic\n",
      "competitiveness\n",
      ",\n",
      "productivity\n",
      ",\n",
      "innovation\n",
      ",\n",
      "and\n",
      "higher\n",
      "education\n",
      ".\n",
      "Its\n",
      "hard\n",
      "power\n",
      "and\n",
      "cultural\n",
      "influence\n",
      "have\n",
      "a\n",
      "global\n",
      "reach\n",
      ".\n",
      "The\n",
      "U.S.\n",
      "is\n",
      "a\n",
      "founding\n",
      "member\n",
      "of\n",
      "the\n",
      "World\n",
      "Bank\n",
      ",\n",
      "Organization\n",
      "of\n",
      "American\n",
      "States\n",
      ",\n",
      "NATO\n",
      ",\n",
      "and\n",
      "United\n",
      "Nations,[n\n",
      "]\n",
      "as\n",
      "well\n",
      "as\n",
      "a\n",
      "permanent\n",
      "member\n",
      "of\n",
      "the\n",
      "UN\n",
      "Security\n",
      "Council\n",
      ".\n"
     ]
    }
   ],
   "execution_count": 7
  },
  {
   "metadata": {
    "ExecuteTime": {
     "end_time": "2024-09-09T04:02:50.333924Z",
     "start_time": "2024-09-09T04:02:50.327667Z"
    }
   },
   "cell_type": "code",
   "source": [
    "for sent in doc.sents:\n",
    "    print(sent)\n",
    "    print()"
   ],
   "id": "b2d659ca318279ca",
   "outputs": [
    {
     "name": "stdout",
     "output_type": "stream",
     "text": [
      "The United States of America (USA or U.S.A.), commonly known as the United States (US or U.S.) or America, is a country primarily located in North America.\n",
      "\n",
      "It is a federal union of 50 states, the federal capital district of Washington, D.C., and 326 Indian reservations.[j]\n",
      "\n",
      "The 48 contiguous states are bordered by Canada to the north and Mexico to the south.\n",
      "\n",
      "The State of Alaska lies to the northwest, while the State of Hawaii is an archipelago in the Pacific Ocean.\n",
      "\n",
      "The United States also asserts sovereignty over five major island territories and various uninhabited islands.[k]\n",
      "\n",
      "The country has the world's third-largest land area,[d] second-largest exclusive economic zone, and third-largest population, exceeding 334 million.[l]\n",
      "\n",
      "Paleo-Indians migrated across the Bering land bridge more than 12,000 years ago, and went on to form various civilizations and societies.\n",
      "\n",
      "British colonization led to the first settlement of the Thirteen Colonies in Virginia in 1607.\n",
      "\n",
      "Clashes with the British Crown over taxation and political representation sparked the American Revolution, with the Second Continental Congress formally declaring independence on July 4, 1776.\n",
      "\n",
      "Following its victory in the 1775â€“1783 Revolutionary War, the country continued to expand across North America.\n",
      "\n",
      "As more states were admitted, a North-South sectional division over slavery led to the secession of the Confederate States of America, which fought the remaining states of the Union during the 1861â€“1865 American Civil War.\n",
      "\n",
      "With the Union's victory and preservation, slavery was abolished nationally.\n",
      "\n",
      "By 1890, the United States had established itself as a great power.\n",
      "\n",
      "After Japan's attack on Pearl Harbor in December 1941, the U.S. entered World War II.\n",
      "\n",
      "The aftermath of the war left the U.S. and the Soviet Union as the world's two superpowers and led to the Cold War, during which both countries engaged in a struggle for ideological dominance and international influence.\n",
      "\n",
      "Following the Soviet Union's collapse and the end of the Cold War in 1991, the U.S. emerged as the world's sole superpower, wielding significant geopolitical influence globally.\n",
      "\n",
      "\n",
      "\n",
      "The U.S. national government is a presidential constitutional federal republic and liberal democracy with three separate branches: legislative, executive, and judicial.\n",
      "\n",
      "It has a bicameral national legislature composed of the House of Representatives, a lower house based on population; and the Senate, an upper house based on equal representation for each state.\n",
      "\n",
      "Substantial autonomy is provided by federalism, with a political culture promoting liberty, equality, individualism, personal autonomy, and limited government.\n",
      "\n",
      "\n",
      "\n",
      "One of the world's most developed countries, the United States has had the largest nominal GDP since about 1890 and accounted for 15% of the global economy in 2023.[m]\n",
      "\n",
      "It possesses by far the largest amount of wealth of any country and has the highest disposable household income per capita among OECD countries.\n",
      "\n",
      "The U.S. ranks among the world's highest in economic competitiveness, productivity, innovation, and higher education.\n",
      "\n",
      "Its hard power and cultural influence have a global reach.\n",
      "\n",
      "The U.S. is a founding member of the World Bank, Organization of American States, NATO, and United Nations,[n] as well as a permanent member of the UN Security Council.\n",
      "\n"
     ]
    }
   ],
   "execution_count": 8
  },
  {
   "metadata": {
    "ExecuteTime": {
     "end_time": "2024-09-09T04:02:50.342095Z",
     "start_time": "2024-09-09T04:02:50.336021Z"
    }
   },
   "cell_type": "code",
   "source": "sentence1=list(doc.sents)[0]",
   "id": "71e5107e5d7a512a",
   "outputs": [],
   "execution_count": 9
  },
  {
   "metadata": {
    "ExecuteTime": {
     "end_time": "2024-09-09T04:02:50.348086Z",
     "start_time": "2024-09-09T04:02:50.343135Z"
    }
   },
   "cell_type": "code",
   "source": "sentence1",
   "id": "cf14d67289aa297",
   "outputs": [
    {
     "data": {
      "text/plain": [
       "The United States of America (USA or U.S.A.), commonly known as the United States (US or U.S.) or America, is a country primarily located in North America."
      ]
     },
     "execution_count": 10,
     "metadata": {},
     "output_type": "execute_result"
    }
   ],
   "execution_count": 10
  },
  {
   "metadata": {
    "ExecuteTime": {
     "end_time": "2024-09-09T04:02:50.362686Z",
     "start_time": "2024-09-09T04:02:50.349095Z"
    }
   },
   "cell_type": "code",
   "source": [
    "token2=sentence1[2]\n",
    "token2"
   ],
   "id": "47433651f8a4a69",
   "outputs": [
    {
     "data": {
      "text/plain": [
       "States"
      ]
     },
     "execution_count": 11,
     "metadata": {},
     "output_type": "execute_result"
    }
   ],
   "execution_count": 11
  },
  {
   "metadata": {
    "ExecuteTime": {
     "end_time": "2024-09-09T04:02:50.371668Z",
     "start_time": "2024-09-09T04:02:50.363694Z"
    }
   },
   "cell_type": "code",
   "source": "token2.left_edge",
   "id": "82e1ae5821bb71ac",
   "outputs": [
    {
     "data": {
      "text/plain": [
       "The"
      ]
     },
     "execution_count": 12,
     "metadata": {},
     "output_type": "execute_result"
    }
   ],
   "execution_count": 12
  },
  {
   "metadata": {
    "ExecuteTime": {
     "end_time": "2024-09-09T04:02:50.378715Z",
     "start_time": "2024-09-09T04:02:50.372714Z"
    }
   },
   "cell_type": "code",
   "source": "token2.text",
   "id": "8a6b5925cccd54c4",
   "outputs": [
    {
     "data": {
      "text/plain": [
       "'States'"
      ]
     },
     "execution_count": 13,
     "metadata": {},
     "output_type": "execute_result"
    }
   ],
   "execution_count": 13
  },
  {
   "metadata": {
    "ExecuteTime": {
     "end_time": "2024-09-09T04:02:50.397396Z",
     "start_time": "2024-09-09T04:02:50.391990Z"
    }
   },
   "cell_type": "code",
   "source": "token2.ent_type_",
   "id": "fd200ab0b4f1cfdf",
   "outputs": [
    {
     "data": {
      "text/plain": [
       "'GPE'"
      ]
     },
     "execution_count": 14,
     "metadata": {},
     "output_type": "execute_result"
    }
   ],
   "execution_count": 14
  },
  {
   "metadata": {
    "ExecuteTime": {
     "end_time": "2024-09-09T04:02:50.406235Z",
     "start_time": "2024-09-09T04:02:50.398406Z"
    }
   },
   "cell_type": "code",
   "source": "token2.ent_iob_",
   "id": "21876add26a897b6",
   "outputs": [
    {
     "data": {
      "text/plain": [
       "'I'"
      ]
     },
     "execution_count": 15,
     "metadata": {},
     "output_type": "execute_result"
    }
   ],
   "execution_count": 15
  },
  {
   "metadata": {
    "ExecuteTime": {
     "end_time": "2024-09-09T04:02:50.412305Z",
     "start_time": "2024-09-09T04:02:50.406235Z"
    }
   },
   "cell_type": "code",
   "source": "token2.lemma_",
   "id": "ae80966af20ae4c1",
   "outputs": [
    {
     "data": {
      "text/plain": [
       "'States'"
      ]
     },
     "execution_count": 16,
     "metadata": {},
     "output_type": "execute_result"
    }
   ],
   "execution_count": 16
  },
  {
   "metadata": {
    "ExecuteTime": {
     "end_time": "2024-09-09T04:02:50.419676Z",
     "start_time": "2024-09-09T04:02:50.413313Z"
    }
   },
   "cell_type": "code",
   "source": "token2.morph",
   "id": "a2b652178dc7f818",
   "outputs": [
    {
     "data": {
      "text/plain": [
       "Number=Sing"
      ]
     },
     "execution_count": 17,
     "metadata": {},
     "output_type": "execute_result"
    }
   ],
   "execution_count": 17
  },
  {
   "metadata": {
    "ExecuteTime": {
     "end_time": "2024-09-09T04:02:50.427049Z",
     "start_time": "2024-09-09T04:02:50.421684Z"
    }
   },
   "cell_type": "code",
   "source": "sentence1[12]",
   "id": "6f34fe70522f86fd",
   "outputs": [
    {
     "data": {
      "text/plain": [
       "known"
      ]
     },
     "execution_count": 18,
     "metadata": {},
     "output_type": "execute_result"
    }
   ],
   "execution_count": 18
  },
  {
   "metadata": {
    "ExecuteTime": {
     "end_time": "2024-09-09T04:02:50.436977Z",
     "start_time": "2024-09-09T04:02:50.428390Z"
    }
   },
   "cell_type": "code",
   "source": "sentence1[12].morph",
   "id": "9428fdf47c376e93",
   "outputs": [
    {
     "data": {
      "text/plain": [
       "Aspect=Perf|Tense=Past|VerbForm=Part"
      ]
     },
     "execution_count": 19,
     "metadata": {},
     "output_type": "execute_result"
    }
   ],
   "execution_count": 19
  },
  {
   "metadata": {
    "ExecuteTime": {
     "end_time": "2024-09-09T04:02:50.443092Z",
     "start_time": "2024-09-09T04:02:50.437990Z"
    }
   },
   "cell_type": "code",
   "source": "token2.pos_",
   "id": "8e6a3e310d5a0a4d",
   "outputs": [
    {
     "data": {
      "text/plain": [
       "'PROPN'"
      ]
     },
     "execution_count": 20,
     "metadata": {},
     "output_type": "execute_result"
    }
   ],
   "execution_count": 20
  },
  {
   "metadata": {
    "ExecuteTime": {
     "end_time": "2024-09-09T04:02:50.449007Z",
     "start_time": "2024-09-09T04:02:50.444318Z"
    }
   },
   "cell_type": "code",
   "source": "token2.pos_",
   "id": "3f1925686e844e94",
   "outputs": [
    {
     "data": {
      "text/plain": [
       "'PROPN'"
      ]
     },
     "execution_count": 21,
     "metadata": {},
     "output_type": "execute_result"
    }
   ],
   "execution_count": 21
  },
  {
   "metadata": {
    "ExecuteTime": {
     "end_time": "2024-09-09T04:02:50.458006Z",
     "start_time": "2024-09-09T04:02:50.453688Z"
    }
   },
   "cell_type": "code",
   "source": "token2.dep_",
   "id": "5ccd9aa52103459",
   "outputs": [
    {
     "data": {
      "text/plain": [
       "'nsubj'"
      ]
     },
     "execution_count": 22,
     "metadata": {},
     "output_type": "execute_result"
    }
   ],
   "execution_count": 22
  },
  {
   "metadata": {
    "ExecuteTime": {
     "end_time": "2024-09-09T04:02:50.463745Z",
     "start_time": "2024-09-09T04:02:50.459354Z"
    }
   },
   "cell_type": "code",
   "source": "token2.lang_",
   "id": "8bdc9325ca18cd86",
   "outputs": [
    {
     "data": {
      "text/plain": [
       "'en'"
      ]
     },
     "execution_count": 23,
     "metadata": {},
     "output_type": "execute_result"
    }
   ],
   "execution_count": 23
  },
  {
   "metadata": {
    "ExecuteTime": {
     "end_time": "2024-09-09T04:02:50.482047Z",
     "start_time": "2024-09-09T04:02:50.465195Z"
    }
   },
   "cell_type": "code",
   "source": [
    "x=\"pratyaksh enjoys playing badminton.\"\n",
    "doc2=nlp(x)\n",
    "doc2"
   ],
   "id": "6dd222c176a6b04f",
   "outputs": [
    {
     "data": {
      "text/plain": [
       "pratyaksh enjoys playing badminton."
      ]
     },
     "execution_count": 24,
     "metadata": {},
     "output_type": "execute_result"
    }
   ],
   "execution_count": 24
  },
  {
   "metadata": {
    "ExecuteTime": {
     "end_time": "2024-09-09T04:02:50.492137Z",
     "start_time": "2024-09-09T04:02:50.486100Z"
    }
   },
   "cell_type": "code",
   "source": [
    "for token in doc2:\n",
    "    print(token.text,token.pos_,token.dep_)"
   ],
   "id": "c8bdcd74ef6151a",
   "outputs": [
    {
     "name": "stdout",
     "output_type": "stream",
     "text": [
      "pratyaksh PROPN nsubj\n",
      "enjoys VERB ROOT\n",
      "playing VERB xcomp\n",
      "badminton NOUN dobj\n",
      ". PUNCT punct\n"
     ]
    }
   ],
   "execution_count": 25
  },
  {
   "metadata": {
    "ExecuteTime": {
     "end_time": "2024-09-09T04:02:50.496900Z",
     "start_time": "2024-09-09T04:02:50.493146Z"
    }
   },
   "cell_type": "code",
   "source": "from spacy import displacy",
   "id": "a1726b23d2d64031",
   "outputs": [],
   "execution_count": 26
  },
  {
   "metadata": {
    "ExecuteTime": {
     "end_time": "2024-09-09T04:02:50.508827Z",
     "start_time": "2024-09-09T04:02:50.497910Z"
    }
   },
   "cell_type": "code",
   "source": "displacy.render(doc2,style=\"dep\")",
   "id": "f902bd3881cfcf1c",
   "outputs": [
    {
     "data": {
      "text/plain": [
       "<IPython.core.display.HTML object>"
      ],
      "text/html": [
       "<span class=\"tex2jax_ignore\"><svg xmlns=\"http://www.w3.org/2000/svg\" xmlns:xlink=\"http://www.w3.org/1999/xlink\" xml:lang=\"en\" id=\"add09fff519a4e67a9a5cbd17158462c-0\" class=\"displacy\" width=\"750\" height=\"224.5\" direction=\"ltr\" style=\"max-width: none; height: 224.5px; color: #000000; background: #ffffff; font-family: Arial; direction: ltr\">\n",
       "<text class=\"displacy-token\" fill=\"currentColor\" text-anchor=\"middle\" y=\"134.5\">\n",
       "    <tspan class=\"displacy-word\" fill=\"currentColor\" x=\"50\">pratyaksh</tspan>\n",
       "    <tspan class=\"displacy-tag\" dy=\"2em\" fill=\"currentColor\" x=\"50\">PROPN</tspan>\n",
       "</text>\n",
       "\n",
       "<text class=\"displacy-token\" fill=\"currentColor\" text-anchor=\"middle\" y=\"134.5\">\n",
       "    <tspan class=\"displacy-word\" fill=\"currentColor\" x=\"225\">enjoys</tspan>\n",
       "    <tspan class=\"displacy-tag\" dy=\"2em\" fill=\"currentColor\" x=\"225\">VERB</tspan>\n",
       "</text>\n",
       "\n",
       "<text class=\"displacy-token\" fill=\"currentColor\" text-anchor=\"middle\" y=\"134.5\">\n",
       "    <tspan class=\"displacy-word\" fill=\"currentColor\" x=\"400\">playing</tspan>\n",
       "    <tspan class=\"displacy-tag\" dy=\"2em\" fill=\"currentColor\" x=\"400\">VERB</tspan>\n",
       "</text>\n",
       "\n",
       "<text class=\"displacy-token\" fill=\"currentColor\" text-anchor=\"middle\" y=\"134.5\">\n",
       "    <tspan class=\"displacy-word\" fill=\"currentColor\" x=\"575\">badminton.</tspan>\n",
       "    <tspan class=\"displacy-tag\" dy=\"2em\" fill=\"currentColor\" x=\"575\">NOUN</tspan>\n",
       "</text>\n",
       "\n",
       "<g class=\"displacy-arrow\">\n",
       "    <path class=\"displacy-arc\" id=\"arrow-add09fff519a4e67a9a5cbd17158462c-0-0\" stroke-width=\"2px\" d=\"M70,89.5 C70,2.0 225.0,2.0 225.0,89.5\" fill=\"none\" stroke=\"currentColor\"/>\n",
       "    <text dy=\"1.25em\" style=\"font-size: 0.8em; letter-spacing: 1px\">\n",
       "        <textPath xlink:href=\"#arrow-add09fff519a4e67a9a5cbd17158462c-0-0\" class=\"displacy-label\" startOffset=\"50%\" side=\"left\" fill=\"currentColor\" text-anchor=\"middle\">nsubj</textPath>\n",
       "    </text>\n",
       "    <path class=\"displacy-arrowhead\" d=\"M70,91.5 L62,79.5 78,79.5\" fill=\"currentColor\"/>\n",
       "</g>\n",
       "\n",
       "<g class=\"displacy-arrow\">\n",
       "    <path class=\"displacy-arc\" id=\"arrow-add09fff519a4e67a9a5cbd17158462c-0-1\" stroke-width=\"2px\" d=\"M245,89.5 C245,2.0 400.0,2.0 400.0,89.5\" fill=\"none\" stroke=\"currentColor\"/>\n",
       "    <text dy=\"1.25em\" style=\"font-size: 0.8em; letter-spacing: 1px\">\n",
       "        <textPath xlink:href=\"#arrow-add09fff519a4e67a9a5cbd17158462c-0-1\" class=\"displacy-label\" startOffset=\"50%\" side=\"left\" fill=\"currentColor\" text-anchor=\"middle\">xcomp</textPath>\n",
       "    </text>\n",
       "    <path class=\"displacy-arrowhead\" d=\"M400.0,91.5 L408.0,79.5 392.0,79.5\" fill=\"currentColor\"/>\n",
       "</g>\n",
       "\n",
       "<g class=\"displacy-arrow\">\n",
       "    <path class=\"displacy-arc\" id=\"arrow-add09fff519a4e67a9a5cbd17158462c-0-2\" stroke-width=\"2px\" d=\"M420,89.5 C420,2.0 575.0,2.0 575.0,89.5\" fill=\"none\" stroke=\"currentColor\"/>\n",
       "    <text dy=\"1.25em\" style=\"font-size: 0.8em; letter-spacing: 1px\">\n",
       "        <textPath xlink:href=\"#arrow-add09fff519a4e67a9a5cbd17158462c-0-2\" class=\"displacy-label\" startOffset=\"50%\" side=\"left\" fill=\"currentColor\" text-anchor=\"middle\">dobj</textPath>\n",
       "    </text>\n",
       "    <path class=\"displacy-arrowhead\" d=\"M575.0,91.5 L583.0,79.5 567.0,79.5\" fill=\"currentColor\"/>\n",
       "</g>\n",
       "</svg></span>"
      ]
     },
     "metadata": {},
     "output_type": "display_data"
    }
   ],
   "execution_count": 27
  },
  {
   "metadata": {
    "ExecuteTime": {
     "end_time": "2024-09-09T04:02:50.514002Z",
     "start_time": "2024-09-09T04:02:50.509906Z"
    }
   },
   "cell_type": "code",
   "source": [
    "for ent in doc.ents:\n",
    "    print(ent.text,ent.label_)"
   ],
   "id": "f8752f769836fb7d",
   "outputs": [
    {
     "name": "stdout",
     "output_type": "stream",
     "text": [
      "The United States of America GPE\n",
      "USA GPE\n",
      "U.S.A. GPE\n",
      "the United States GPE\n",
      "US GPE\n",
      "U.S. GPE\n",
      "America GPE\n",
      "North America LOC\n",
      "50 CARDINAL\n",
      "Washington GPE\n",
      "D.C. GPE\n",
      "326 CARDINAL\n",
      "Indian NORP\n",
      "48 CARDINAL\n",
      "Canada GPE\n",
      "Mexico GPE\n",
      "Alaska GPE\n",
      "the State of Hawaii GPE\n",
      "the Pacific Ocean LOC\n",
      "The United States GPE\n",
      "five CARDINAL\n",
      "third ORDINAL\n",
      "second ORDINAL\n",
      "third ORDINAL\n",
      "334 CARDINAL\n",
      "Paleo-Indians NORP\n",
      "more than 12,000 years ago DATE\n",
      "British NORP\n",
      "first ORDINAL\n",
      "the Thirteen Colonies ORG\n",
      "Virginia GPE\n",
      "1607 DATE\n",
      "British NORP\n",
      "Crown PRODUCT\n",
      "the American Revolution EVENT\n",
      "Second ORDINAL\n",
      "July 4, 1776 DATE\n",
      "Revolutionary War EVENT\n",
      "North America LOC\n",
      "North-South LOC\n",
      "the Confederate States of America GPE\n",
      "American Civil War EVENT\n",
      "Union ORG\n",
      "1890 DATE\n",
      "the United States GPE\n",
      "Japan GPE\n",
      "Pearl Harbor FAC\n",
      "December 1941 DATE\n",
      "U.S. GPE\n",
      "World War II EVENT\n",
      "U.S. GPE\n",
      "the Soviet Union GPE\n",
      "two CARDINAL\n",
      "the Cold War EVENT\n",
      "the Soviet Union's GPE\n",
      "the Cold War EVENT\n",
      "1991 DATE\n",
      "U.S. GPE\n",
      "U.S. GPE\n",
      "three CARDINAL\n",
      "the House of Representatives ORG\n",
      "Senate ORG\n",
      "One CARDINAL\n",
      "the United States GPE\n",
      "15% PERCENT\n",
      "2023.[m CARDINAL\n",
      "OECD ORG\n",
      "U.S. GPE\n",
      "U.S. GPE\n",
      "the World Bank ORG\n",
      "Organization of American States ORG\n",
      "NATO ORG\n",
      "United Nations,[n ORG\n",
      "the UN Security Council ORG\n"
     ]
    }
   ],
   "execution_count": 28
  },
  {
   "metadata": {
    "ExecuteTime": {
     "end_time": "2024-09-09T04:02:50.526551Z",
     "start_time": "2024-09-09T04:02:50.515010Z"
    }
   },
   "cell_type": "code",
   "source": "displacy.render(doc,style=\"ent\")",
   "id": "37d3b850959928c8",
   "outputs": [
    {
     "data": {
      "text/plain": [
       "<IPython.core.display.HTML object>"
      ],
      "text/html": [
       "<span class=\"tex2jax_ignore\"><div class=\"entities\" style=\"line-height: 2.5; direction: ltr\">\n",
       "<mark class=\"entity\" style=\"background: #feca74; padding: 0.45em 0.6em; margin: 0 0.25em; line-height: 1; border-radius: 0.35em;\">\n",
       "    The United States of America\n",
       "    <span style=\"font-size: 0.8em; font-weight: bold; line-height: 1; border-radius: 0.35em; vertical-align: middle; margin-left: 0.5rem\">GPE</span>\n",
       "</mark>\n",
       " (\n",
       "<mark class=\"entity\" style=\"background: #feca74; padding: 0.45em 0.6em; margin: 0 0.25em; line-height: 1; border-radius: 0.35em;\">\n",
       "    USA\n",
       "    <span style=\"font-size: 0.8em; font-weight: bold; line-height: 1; border-radius: 0.35em; vertical-align: middle; margin-left: 0.5rem\">GPE</span>\n",
       "</mark>\n",
       " or \n",
       "<mark class=\"entity\" style=\"background: #feca74; padding: 0.45em 0.6em; margin: 0 0.25em; line-height: 1; border-radius: 0.35em;\">\n",
       "    U.S.A.\n",
       "    <span style=\"font-size: 0.8em; font-weight: bold; line-height: 1; border-radius: 0.35em; vertical-align: middle; margin-left: 0.5rem\">GPE</span>\n",
       "</mark>\n",
       "), commonly known as \n",
       "<mark class=\"entity\" style=\"background: #feca74; padding: 0.45em 0.6em; margin: 0 0.25em; line-height: 1; border-radius: 0.35em;\">\n",
       "    the United States\n",
       "    <span style=\"font-size: 0.8em; font-weight: bold; line-height: 1; border-radius: 0.35em; vertical-align: middle; margin-left: 0.5rem\">GPE</span>\n",
       "</mark>\n",
       " (\n",
       "<mark class=\"entity\" style=\"background: #feca74; padding: 0.45em 0.6em; margin: 0 0.25em; line-height: 1; border-radius: 0.35em;\">\n",
       "    US\n",
       "    <span style=\"font-size: 0.8em; font-weight: bold; line-height: 1; border-radius: 0.35em; vertical-align: middle; margin-left: 0.5rem\">GPE</span>\n",
       "</mark>\n",
       " or \n",
       "<mark class=\"entity\" style=\"background: #feca74; padding: 0.45em 0.6em; margin: 0 0.25em; line-height: 1; border-radius: 0.35em;\">\n",
       "    U.S.\n",
       "    <span style=\"font-size: 0.8em; font-weight: bold; line-height: 1; border-radius: 0.35em; vertical-align: middle; margin-left: 0.5rem\">GPE</span>\n",
       "</mark>\n",
       ") or \n",
       "<mark class=\"entity\" style=\"background: #feca74; padding: 0.45em 0.6em; margin: 0 0.25em; line-height: 1; border-radius: 0.35em;\">\n",
       "    America\n",
       "    <span style=\"font-size: 0.8em; font-weight: bold; line-height: 1; border-radius: 0.35em; vertical-align: middle; margin-left: 0.5rem\">GPE</span>\n",
       "</mark>\n",
       ", is a country primarily located in \n",
       "<mark class=\"entity\" style=\"background: #ff9561; padding: 0.45em 0.6em; margin: 0 0.25em; line-height: 1; border-radius: 0.35em;\">\n",
       "    North America\n",
       "    <span style=\"font-size: 0.8em; font-weight: bold; line-height: 1; border-radius: 0.35em; vertical-align: middle; margin-left: 0.5rem\">LOC</span>\n",
       "</mark>\n",
       ". It is a federal union of \n",
       "<mark class=\"entity\" style=\"background: #e4e7d2; padding: 0.45em 0.6em; margin: 0 0.25em; line-height: 1; border-radius: 0.35em;\">\n",
       "    50\n",
       "    <span style=\"font-size: 0.8em; font-weight: bold; line-height: 1; border-radius: 0.35em; vertical-align: middle; margin-left: 0.5rem\">CARDINAL</span>\n",
       "</mark>\n",
       " states, the federal capital district of \n",
       "<mark class=\"entity\" style=\"background: #feca74; padding: 0.45em 0.6em; margin: 0 0.25em; line-height: 1; border-radius: 0.35em;\">\n",
       "    Washington\n",
       "    <span style=\"font-size: 0.8em; font-weight: bold; line-height: 1; border-radius: 0.35em; vertical-align: middle; margin-left: 0.5rem\">GPE</span>\n",
       "</mark>\n",
       ", \n",
       "<mark class=\"entity\" style=\"background: #feca74; padding: 0.45em 0.6em; margin: 0 0.25em; line-height: 1; border-radius: 0.35em;\">\n",
       "    D.C.\n",
       "    <span style=\"font-size: 0.8em; font-weight: bold; line-height: 1; border-radius: 0.35em; vertical-align: middle; margin-left: 0.5rem\">GPE</span>\n",
       "</mark>\n",
       ", and \n",
       "<mark class=\"entity\" style=\"background: #e4e7d2; padding: 0.45em 0.6em; margin: 0 0.25em; line-height: 1; border-radius: 0.35em;\">\n",
       "    326\n",
       "    <span style=\"font-size: 0.8em; font-weight: bold; line-height: 1; border-radius: 0.35em; vertical-align: middle; margin-left: 0.5rem\">CARDINAL</span>\n",
       "</mark>\n",
       " \n",
       "<mark class=\"entity\" style=\"background: #c887fb; padding: 0.45em 0.6em; margin: 0 0.25em; line-height: 1; border-radius: 0.35em;\">\n",
       "    Indian\n",
       "    <span style=\"font-size: 0.8em; font-weight: bold; line-height: 1; border-radius: 0.35em; vertical-align: middle; margin-left: 0.5rem\">NORP</span>\n",
       "</mark>\n",
       " reservations.[j] The \n",
       "<mark class=\"entity\" style=\"background: #e4e7d2; padding: 0.45em 0.6em; margin: 0 0.25em; line-height: 1; border-radius: 0.35em;\">\n",
       "    48\n",
       "    <span style=\"font-size: 0.8em; font-weight: bold; line-height: 1; border-radius: 0.35em; vertical-align: middle; margin-left: 0.5rem\">CARDINAL</span>\n",
       "</mark>\n",
       " contiguous states are bordered by \n",
       "<mark class=\"entity\" style=\"background: #feca74; padding: 0.45em 0.6em; margin: 0 0.25em; line-height: 1; border-radius: 0.35em;\">\n",
       "    Canada\n",
       "    <span style=\"font-size: 0.8em; font-weight: bold; line-height: 1; border-radius: 0.35em; vertical-align: middle; margin-left: 0.5rem\">GPE</span>\n",
       "</mark>\n",
       " to the north and \n",
       "<mark class=\"entity\" style=\"background: #feca74; padding: 0.45em 0.6em; margin: 0 0.25em; line-height: 1; border-radius: 0.35em;\">\n",
       "    Mexico\n",
       "    <span style=\"font-size: 0.8em; font-weight: bold; line-height: 1; border-radius: 0.35em; vertical-align: middle; margin-left: 0.5rem\">GPE</span>\n",
       "</mark>\n",
       " to the south. The State of \n",
       "<mark class=\"entity\" style=\"background: #feca74; padding: 0.45em 0.6em; margin: 0 0.25em; line-height: 1; border-radius: 0.35em;\">\n",
       "    Alaska\n",
       "    <span style=\"font-size: 0.8em; font-weight: bold; line-height: 1; border-radius: 0.35em; vertical-align: middle; margin-left: 0.5rem\">GPE</span>\n",
       "</mark>\n",
       " lies to the northwest, while \n",
       "<mark class=\"entity\" style=\"background: #feca74; padding: 0.45em 0.6em; margin: 0 0.25em; line-height: 1; border-radius: 0.35em;\">\n",
       "    the State of Hawaii\n",
       "    <span style=\"font-size: 0.8em; font-weight: bold; line-height: 1; border-radius: 0.35em; vertical-align: middle; margin-left: 0.5rem\">GPE</span>\n",
       "</mark>\n",
       " is an archipelago in \n",
       "<mark class=\"entity\" style=\"background: #ff9561; padding: 0.45em 0.6em; margin: 0 0.25em; line-height: 1; border-radius: 0.35em;\">\n",
       "    the Pacific Ocean\n",
       "    <span style=\"font-size: 0.8em; font-weight: bold; line-height: 1; border-radius: 0.35em; vertical-align: middle; margin-left: 0.5rem\">LOC</span>\n",
       "</mark>\n",
       ". \n",
       "<mark class=\"entity\" style=\"background: #feca74; padding: 0.45em 0.6em; margin: 0 0.25em; line-height: 1; border-radius: 0.35em;\">\n",
       "    The United States\n",
       "    <span style=\"font-size: 0.8em; font-weight: bold; line-height: 1; border-radius: 0.35em; vertical-align: middle; margin-left: 0.5rem\">GPE</span>\n",
       "</mark>\n",
       " also asserts sovereignty over \n",
       "<mark class=\"entity\" style=\"background: #e4e7d2; padding: 0.45em 0.6em; margin: 0 0.25em; line-height: 1; border-radius: 0.35em;\">\n",
       "    five\n",
       "    <span style=\"font-size: 0.8em; font-weight: bold; line-height: 1; border-radius: 0.35em; vertical-align: middle; margin-left: 0.5rem\">CARDINAL</span>\n",
       "</mark>\n",
       " major island territories and various uninhabited islands.[k] The country has the world's \n",
       "<mark class=\"entity\" style=\"background: #e4e7d2; padding: 0.45em 0.6em; margin: 0 0.25em; line-height: 1; border-radius: 0.35em;\">\n",
       "    third\n",
       "    <span style=\"font-size: 0.8em; font-weight: bold; line-height: 1; border-radius: 0.35em; vertical-align: middle; margin-left: 0.5rem\">ORDINAL</span>\n",
       "</mark>\n",
       "-largest land area,[d] \n",
       "<mark class=\"entity\" style=\"background: #e4e7d2; padding: 0.45em 0.6em; margin: 0 0.25em; line-height: 1; border-radius: 0.35em;\">\n",
       "    second\n",
       "    <span style=\"font-size: 0.8em; font-weight: bold; line-height: 1; border-radius: 0.35em; vertical-align: middle; margin-left: 0.5rem\">ORDINAL</span>\n",
       "</mark>\n",
       "-largest exclusive economic zone, and \n",
       "<mark class=\"entity\" style=\"background: #e4e7d2; padding: 0.45em 0.6em; margin: 0 0.25em; line-height: 1; border-radius: 0.35em;\">\n",
       "    third\n",
       "    <span style=\"font-size: 0.8em; font-weight: bold; line-height: 1; border-radius: 0.35em; vertical-align: middle; margin-left: 0.5rem\">ORDINAL</span>\n",
       "</mark>\n",
       "-largest population, exceeding \n",
       "<mark class=\"entity\" style=\"background: #e4e7d2; padding: 0.45em 0.6em; margin: 0 0.25em; line-height: 1; border-radius: 0.35em;\">\n",
       "    334\n",
       "    <span style=\"font-size: 0.8em; font-weight: bold; line-height: 1; border-radius: 0.35em; vertical-align: middle; margin-left: 0.5rem\">CARDINAL</span>\n",
       "</mark>\n",
       " million.[l]<br><br>\n",
       "<mark class=\"entity\" style=\"background: #c887fb; padding: 0.45em 0.6em; margin: 0 0.25em; line-height: 1; border-radius: 0.35em;\">\n",
       "    Paleo-Indians\n",
       "    <span style=\"font-size: 0.8em; font-weight: bold; line-height: 1; border-radius: 0.35em; vertical-align: middle; margin-left: 0.5rem\">NORP</span>\n",
       "</mark>\n",
       " migrated across the Bering land bridge \n",
       "<mark class=\"entity\" style=\"background: #bfe1d9; padding: 0.45em 0.6em; margin: 0 0.25em; line-height: 1; border-radius: 0.35em;\">\n",
       "    more than 12,000 years ago\n",
       "    <span style=\"font-size: 0.8em; font-weight: bold; line-height: 1; border-radius: 0.35em; vertical-align: middle; margin-left: 0.5rem\">DATE</span>\n",
       "</mark>\n",
       ", and went on to form various civilizations and societies. \n",
       "<mark class=\"entity\" style=\"background: #c887fb; padding: 0.45em 0.6em; margin: 0 0.25em; line-height: 1; border-radius: 0.35em;\">\n",
       "    British\n",
       "    <span style=\"font-size: 0.8em; font-weight: bold; line-height: 1; border-radius: 0.35em; vertical-align: middle; margin-left: 0.5rem\">NORP</span>\n",
       "</mark>\n",
       " colonization led to the \n",
       "<mark class=\"entity\" style=\"background: #e4e7d2; padding: 0.45em 0.6em; margin: 0 0.25em; line-height: 1; border-radius: 0.35em;\">\n",
       "    first\n",
       "    <span style=\"font-size: 0.8em; font-weight: bold; line-height: 1; border-radius: 0.35em; vertical-align: middle; margin-left: 0.5rem\">ORDINAL</span>\n",
       "</mark>\n",
       " settlement of \n",
       "<mark class=\"entity\" style=\"background: #7aecec; padding: 0.45em 0.6em; margin: 0 0.25em; line-height: 1; border-radius: 0.35em;\">\n",
       "    the Thirteen Colonies\n",
       "    <span style=\"font-size: 0.8em; font-weight: bold; line-height: 1; border-radius: 0.35em; vertical-align: middle; margin-left: 0.5rem\">ORG</span>\n",
       "</mark>\n",
       " in \n",
       "<mark class=\"entity\" style=\"background: #feca74; padding: 0.45em 0.6em; margin: 0 0.25em; line-height: 1; border-radius: 0.35em;\">\n",
       "    Virginia\n",
       "    <span style=\"font-size: 0.8em; font-weight: bold; line-height: 1; border-radius: 0.35em; vertical-align: middle; margin-left: 0.5rem\">GPE</span>\n",
       "</mark>\n",
       " in \n",
       "<mark class=\"entity\" style=\"background: #bfe1d9; padding: 0.45em 0.6em; margin: 0 0.25em; line-height: 1; border-radius: 0.35em;\">\n",
       "    1607\n",
       "    <span style=\"font-size: 0.8em; font-weight: bold; line-height: 1; border-radius: 0.35em; vertical-align: middle; margin-left: 0.5rem\">DATE</span>\n",
       "</mark>\n",
       ". Clashes with the \n",
       "<mark class=\"entity\" style=\"background: #c887fb; padding: 0.45em 0.6em; margin: 0 0.25em; line-height: 1; border-radius: 0.35em;\">\n",
       "    British\n",
       "    <span style=\"font-size: 0.8em; font-weight: bold; line-height: 1; border-radius: 0.35em; vertical-align: middle; margin-left: 0.5rem\">NORP</span>\n",
       "</mark>\n",
       " \n",
       "<mark class=\"entity\" style=\"background: #bfeeb7; padding: 0.45em 0.6em; margin: 0 0.25em; line-height: 1; border-radius: 0.35em;\">\n",
       "    Crown\n",
       "    <span style=\"font-size: 0.8em; font-weight: bold; line-height: 1; border-radius: 0.35em; vertical-align: middle; margin-left: 0.5rem\">PRODUCT</span>\n",
       "</mark>\n",
       " over taxation and political representation sparked \n",
       "<mark class=\"entity\" style=\"background: #ffeb80; padding: 0.45em 0.6em; margin: 0 0.25em; line-height: 1; border-radius: 0.35em;\">\n",
       "    the American Revolution\n",
       "    <span style=\"font-size: 0.8em; font-weight: bold; line-height: 1; border-radius: 0.35em; vertical-align: middle; margin-left: 0.5rem\">EVENT</span>\n",
       "</mark>\n",
       ", with the \n",
       "<mark class=\"entity\" style=\"background: #e4e7d2; padding: 0.45em 0.6em; margin: 0 0.25em; line-height: 1; border-radius: 0.35em;\">\n",
       "    Second\n",
       "    <span style=\"font-size: 0.8em; font-weight: bold; line-height: 1; border-radius: 0.35em; vertical-align: middle; margin-left: 0.5rem\">ORDINAL</span>\n",
       "</mark>\n",
       " Continental Congress formally declaring independence on \n",
       "<mark class=\"entity\" style=\"background: #bfe1d9; padding: 0.45em 0.6em; margin: 0 0.25em; line-height: 1; border-radius: 0.35em;\">\n",
       "    July 4, 1776\n",
       "    <span style=\"font-size: 0.8em; font-weight: bold; line-height: 1; border-radius: 0.35em; vertical-align: middle; margin-left: 0.5rem\">DATE</span>\n",
       "</mark>\n",
       ". Following its victory in the 1775â€“1783 \n",
       "<mark class=\"entity\" style=\"background: #ffeb80; padding: 0.45em 0.6em; margin: 0 0.25em; line-height: 1; border-radius: 0.35em;\">\n",
       "    Revolutionary War\n",
       "    <span style=\"font-size: 0.8em; font-weight: bold; line-height: 1; border-radius: 0.35em; vertical-align: middle; margin-left: 0.5rem\">EVENT</span>\n",
       "</mark>\n",
       ", the country continued to expand across \n",
       "<mark class=\"entity\" style=\"background: #ff9561; padding: 0.45em 0.6em; margin: 0 0.25em; line-height: 1; border-radius: 0.35em;\">\n",
       "    North America\n",
       "    <span style=\"font-size: 0.8em; font-weight: bold; line-height: 1; border-radius: 0.35em; vertical-align: middle; margin-left: 0.5rem\">LOC</span>\n",
       "</mark>\n",
       ". As more states were admitted, a \n",
       "<mark class=\"entity\" style=\"background: #ff9561; padding: 0.45em 0.6em; margin: 0 0.25em; line-height: 1; border-radius: 0.35em;\">\n",
       "    North-South\n",
       "    <span style=\"font-size: 0.8em; font-weight: bold; line-height: 1; border-radius: 0.35em; vertical-align: middle; margin-left: 0.5rem\">LOC</span>\n",
       "</mark>\n",
       " sectional division over slavery led to the secession of \n",
       "<mark class=\"entity\" style=\"background: #feca74; padding: 0.45em 0.6em; margin: 0 0.25em; line-height: 1; border-radius: 0.35em;\">\n",
       "    the Confederate States of America\n",
       "    <span style=\"font-size: 0.8em; font-weight: bold; line-height: 1; border-radius: 0.35em; vertical-align: middle; margin-left: 0.5rem\">GPE</span>\n",
       "</mark>\n",
       ", which fought the remaining states of the Union during the 1861â€“1865 \n",
       "<mark class=\"entity\" style=\"background: #ffeb80; padding: 0.45em 0.6em; margin: 0 0.25em; line-height: 1; border-radius: 0.35em;\">\n",
       "    American Civil War\n",
       "    <span style=\"font-size: 0.8em; font-weight: bold; line-height: 1; border-radius: 0.35em; vertical-align: middle; margin-left: 0.5rem\">EVENT</span>\n",
       "</mark>\n",
       ". With the \n",
       "<mark class=\"entity\" style=\"background: #7aecec; padding: 0.45em 0.6em; margin: 0 0.25em; line-height: 1; border-radius: 0.35em;\">\n",
       "    Union\n",
       "    <span style=\"font-size: 0.8em; font-weight: bold; line-height: 1; border-radius: 0.35em; vertical-align: middle; margin-left: 0.5rem\">ORG</span>\n",
       "</mark>\n",
       "'s victory and preservation, slavery was abolished nationally. By \n",
       "<mark class=\"entity\" style=\"background: #bfe1d9; padding: 0.45em 0.6em; margin: 0 0.25em; line-height: 1; border-radius: 0.35em;\">\n",
       "    1890\n",
       "    <span style=\"font-size: 0.8em; font-weight: bold; line-height: 1; border-radius: 0.35em; vertical-align: middle; margin-left: 0.5rem\">DATE</span>\n",
       "</mark>\n",
       ", \n",
       "<mark class=\"entity\" style=\"background: #feca74; padding: 0.45em 0.6em; margin: 0 0.25em; line-height: 1; border-radius: 0.35em;\">\n",
       "    the United States\n",
       "    <span style=\"font-size: 0.8em; font-weight: bold; line-height: 1; border-radius: 0.35em; vertical-align: middle; margin-left: 0.5rem\">GPE</span>\n",
       "</mark>\n",
       " had established itself as a great power. After \n",
       "<mark class=\"entity\" style=\"background: #feca74; padding: 0.45em 0.6em; margin: 0 0.25em; line-height: 1; border-radius: 0.35em;\">\n",
       "    Japan\n",
       "    <span style=\"font-size: 0.8em; font-weight: bold; line-height: 1; border-radius: 0.35em; vertical-align: middle; margin-left: 0.5rem\">GPE</span>\n",
       "</mark>\n",
       "'s attack on \n",
       "<mark class=\"entity\" style=\"background: #9cc9cc; padding: 0.45em 0.6em; margin: 0 0.25em; line-height: 1; border-radius: 0.35em;\">\n",
       "    Pearl Harbor\n",
       "    <span style=\"font-size: 0.8em; font-weight: bold; line-height: 1; border-radius: 0.35em; vertical-align: middle; margin-left: 0.5rem\">FAC</span>\n",
       "</mark>\n",
       " in \n",
       "<mark class=\"entity\" style=\"background: #bfe1d9; padding: 0.45em 0.6em; margin: 0 0.25em; line-height: 1; border-radius: 0.35em;\">\n",
       "    December 1941\n",
       "    <span style=\"font-size: 0.8em; font-weight: bold; line-height: 1; border-radius: 0.35em; vertical-align: middle; margin-left: 0.5rem\">DATE</span>\n",
       "</mark>\n",
       ", the \n",
       "<mark class=\"entity\" style=\"background: #feca74; padding: 0.45em 0.6em; margin: 0 0.25em; line-height: 1; border-radius: 0.35em;\">\n",
       "    U.S.\n",
       "    <span style=\"font-size: 0.8em; font-weight: bold; line-height: 1; border-radius: 0.35em; vertical-align: middle; margin-left: 0.5rem\">GPE</span>\n",
       "</mark>\n",
       " entered \n",
       "<mark class=\"entity\" style=\"background: #ffeb80; padding: 0.45em 0.6em; margin: 0 0.25em; line-height: 1; border-radius: 0.35em;\">\n",
       "    World War II\n",
       "    <span style=\"font-size: 0.8em; font-weight: bold; line-height: 1; border-radius: 0.35em; vertical-align: middle; margin-left: 0.5rem\">EVENT</span>\n",
       "</mark>\n",
       ". The aftermath of the war left the \n",
       "<mark class=\"entity\" style=\"background: #feca74; padding: 0.45em 0.6em; margin: 0 0.25em; line-height: 1; border-radius: 0.35em;\">\n",
       "    U.S.\n",
       "    <span style=\"font-size: 0.8em; font-weight: bold; line-height: 1; border-radius: 0.35em; vertical-align: middle; margin-left: 0.5rem\">GPE</span>\n",
       "</mark>\n",
       " and \n",
       "<mark class=\"entity\" style=\"background: #feca74; padding: 0.45em 0.6em; margin: 0 0.25em; line-height: 1; border-radius: 0.35em;\">\n",
       "    the Soviet Union\n",
       "    <span style=\"font-size: 0.8em; font-weight: bold; line-height: 1; border-radius: 0.35em; vertical-align: middle; margin-left: 0.5rem\">GPE</span>\n",
       "</mark>\n",
       " as the world's \n",
       "<mark class=\"entity\" style=\"background: #e4e7d2; padding: 0.45em 0.6em; margin: 0 0.25em; line-height: 1; border-radius: 0.35em;\">\n",
       "    two\n",
       "    <span style=\"font-size: 0.8em; font-weight: bold; line-height: 1; border-radius: 0.35em; vertical-align: middle; margin-left: 0.5rem\">CARDINAL</span>\n",
       "</mark>\n",
       " superpowers and led to \n",
       "<mark class=\"entity\" style=\"background: #ffeb80; padding: 0.45em 0.6em; margin: 0 0.25em; line-height: 1; border-radius: 0.35em;\">\n",
       "    the Cold War\n",
       "    <span style=\"font-size: 0.8em; font-weight: bold; line-height: 1; border-radius: 0.35em; vertical-align: middle; margin-left: 0.5rem\">EVENT</span>\n",
       "</mark>\n",
       ", during which both countries engaged in a struggle for ideological dominance and international influence. Following \n",
       "<mark class=\"entity\" style=\"background: #feca74; padding: 0.45em 0.6em; margin: 0 0.25em; line-height: 1; border-radius: 0.35em;\">\n",
       "    the Soviet Union's\n",
       "    <span style=\"font-size: 0.8em; font-weight: bold; line-height: 1; border-radius: 0.35em; vertical-align: middle; margin-left: 0.5rem\">GPE</span>\n",
       "</mark>\n",
       " collapse and the end of \n",
       "<mark class=\"entity\" style=\"background: #ffeb80; padding: 0.45em 0.6em; margin: 0 0.25em; line-height: 1; border-radius: 0.35em;\">\n",
       "    the Cold War\n",
       "    <span style=\"font-size: 0.8em; font-weight: bold; line-height: 1; border-radius: 0.35em; vertical-align: middle; margin-left: 0.5rem\">EVENT</span>\n",
       "</mark>\n",
       " in \n",
       "<mark class=\"entity\" style=\"background: #bfe1d9; padding: 0.45em 0.6em; margin: 0 0.25em; line-height: 1; border-radius: 0.35em;\">\n",
       "    1991\n",
       "    <span style=\"font-size: 0.8em; font-weight: bold; line-height: 1; border-radius: 0.35em; vertical-align: middle; margin-left: 0.5rem\">DATE</span>\n",
       "</mark>\n",
       ", the \n",
       "<mark class=\"entity\" style=\"background: #feca74; padding: 0.45em 0.6em; margin: 0 0.25em; line-height: 1; border-radius: 0.35em;\">\n",
       "    U.S.\n",
       "    <span style=\"font-size: 0.8em; font-weight: bold; line-height: 1; border-radius: 0.35em; vertical-align: middle; margin-left: 0.5rem\">GPE</span>\n",
       "</mark>\n",
       " emerged as the world's sole superpower, wielding significant geopolitical influence globally.<br><br>The \n",
       "<mark class=\"entity\" style=\"background: #feca74; padding: 0.45em 0.6em; margin: 0 0.25em; line-height: 1; border-radius: 0.35em;\">\n",
       "    U.S.\n",
       "    <span style=\"font-size: 0.8em; font-weight: bold; line-height: 1; border-radius: 0.35em; vertical-align: middle; margin-left: 0.5rem\">GPE</span>\n",
       "</mark>\n",
       " national government is a presidential constitutional federal republic and liberal democracy with \n",
       "<mark class=\"entity\" style=\"background: #e4e7d2; padding: 0.45em 0.6em; margin: 0 0.25em; line-height: 1; border-radius: 0.35em;\">\n",
       "    three\n",
       "    <span style=\"font-size: 0.8em; font-weight: bold; line-height: 1; border-radius: 0.35em; vertical-align: middle; margin-left: 0.5rem\">CARDINAL</span>\n",
       "</mark>\n",
       " separate branches: legislative, executive, and judicial. It has a bicameral national legislature composed of \n",
       "<mark class=\"entity\" style=\"background: #7aecec; padding: 0.45em 0.6em; margin: 0 0.25em; line-height: 1; border-radius: 0.35em;\">\n",
       "    the House of Representatives\n",
       "    <span style=\"font-size: 0.8em; font-weight: bold; line-height: 1; border-radius: 0.35em; vertical-align: middle; margin-left: 0.5rem\">ORG</span>\n",
       "</mark>\n",
       ", a lower house based on population; and the \n",
       "<mark class=\"entity\" style=\"background: #7aecec; padding: 0.45em 0.6em; margin: 0 0.25em; line-height: 1; border-radius: 0.35em;\">\n",
       "    Senate\n",
       "    <span style=\"font-size: 0.8em; font-weight: bold; line-height: 1; border-radius: 0.35em; vertical-align: middle; margin-left: 0.5rem\">ORG</span>\n",
       "</mark>\n",
       ", an upper house based on equal representation for each state. Substantial autonomy is provided by federalism, with a political culture promoting liberty, equality, individualism, personal autonomy, and limited government.<br><br>\n",
       "<mark class=\"entity\" style=\"background: #e4e7d2; padding: 0.45em 0.6em; margin: 0 0.25em; line-height: 1; border-radius: 0.35em;\">\n",
       "    One\n",
       "    <span style=\"font-size: 0.8em; font-weight: bold; line-height: 1; border-radius: 0.35em; vertical-align: middle; margin-left: 0.5rem\">CARDINAL</span>\n",
       "</mark>\n",
       " of the world's most developed countries, \n",
       "<mark class=\"entity\" style=\"background: #feca74; padding: 0.45em 0.6em; margin: 0 0.25em; line-height: 1; border-radius: 0.35em;\">\n",
       "    the United States\n",
       "    <span style=\"font-size: 0.8em; font-weight: bold; line-height: 1; border-radius: 0.35em; vertical-align: middle; margin-left: 0.5rem\">GPE</span>\n",
       "</mark>\n",
       " has had the largest nominal GDP since about 1890 and accounted for \n",
       "<mark class=\"entity\" style=\"background: #e4e7d2; padding: 0.45em 0.6em; margin: 0 0.25em; line-height: 1; border-radius: 0.35em;\">\n",
       "    15%\n",
       "    <span style=\"font-size: 0.8em; font-weight: bold; line-height: 1; border-radius: 0.35em; vertical-align: middle; margin-left: 0.5rem\">PERCENT</span>\n",
       "</mark>\n",
       " of the global economy in \n",
       "<mark class=\"entity\" style=\"background: #e4e7d2; padding: 0.45em 0.6em; margin: 0 0.25em; line-height: 1; border-radius: 0.35em;\">\n",
       "    2023.[m\n",
       "    <span style=\"font-size: 0.8em; font-weight: bold; line-height: 1; border-radius: 0.35em; vertical-align: middle; margin-left: 0.5rem\">CARDINAL</span>\n",
       "</mark>\n",
       "] It possesses by far the largest amount of wealth of any country and has the highest disposable household income per capita among \n",
       "<mark class=\"entity\" style=\"background: #7aecec; padding: 0.45em 0.6em; margin: 0 0.25em; line-height: 1; border-radius: 0.35em;\">\n",
       "    OECD\n",
       "    <span style=\"font-size: 0.8em; font-weight: bold; line-height: 1; border-radius: 0.35em; vertical-align: middle; margin-left: 0.5rem\">ORG</span>\n",
       "</mark>\n",
       " countries. The \n",
       "<mark class=\"entity\" style=\"background: #feca74; padding: 0.45em 0.6em; margin: 0 0.25em; line-height: 1; border-radius: 0.35em;\">\n",
       "    U.S.\n",
       "    <span style=\"font-size: 0.8em; font-weight: bold; line-height: 1; border-radius: 0.35em; vertical-align: middle; margin-left: 0.5rem\">GPE</span>\n",
       "</mark>\n",
       " ranks among the world's highest in economic competitiveness, productivity, innovation, and higher education. Its hard power and cultural influence have a global reach. The \n",
       "<mark class=\"entity\" style=\"background: #feca74; padding: 0.45em 0.6em; margin: 0 0.25em; line-height: 1; border-radius: 0.35em;\">\n",
       "    U.S.\n",
       "    <span style=\"font-size: 0.8em; font-weight: bold; line-height: 1; border-radius: 0.35em; vertical-align: middle; margin-left: 0.5rem\">GPE</span>\n",
       "</mark>\n",
       " is a founding member of \n",
       "<mark class=\"entity\" style=\"background: #7aecec; padding: 0.45em 0.6em; margin: 0 0.25em; line-height: 1; border-radius: 0.35em;\">\n",
       "    the World Bank\n",
       "    <span style=\"font-size: 0.8em; font-weight: bold; line-height: 1; border-radius: 0.35em; vertical-align: middle; margin-left: 0.5rem\">ORG</span>\n",
       "</mark>\n",
       ", \n",
       "<mark class=\"entity\" style=\"background: #7aecec; padding: 0.45em 0.6em; margin: 0 0.25em; line-height: 1; border-radius: 0.35em;\">\n",
       "    Organization of American States\n",
       "    <span style=\"font-size: 0.8em; font-weight: bold; line-height: 1; border-radius: 0.35em; vertical-align: middle; margin-left: 0.5rem\">ORG</span>\n",
       "</mark>\n",
       ", \n",
       "<mark class=\"entity\" style=\"background: #7aecec; padding: 0.45em 0.6em; margin: 0 0.25em; line-height: 1; border-radius: 0.35em;\">\n",
       "    NATO\n",
       "    <span style=\"font-size: 0.8em; font-weight: bold; line-height: 1; border-radius: 0.35em; vertical-align: middle; margin-left: 0.5rem\">ORG</span>\n",
       "</mark>\n",
       ", and \n",
       "<mark class=\"entity\" style=\"background: #7aecec; padding: 0.45em 0.6em; margin: 0 0.25em; line-height: 1; border-radius: 0.35em;\">\n",
       "    United Nations,[n\n",
       "    <span style=\"font-size: 0.8em; font-weight: bold; line-height: 1; border-radius: 0.35em; vertical-align: middle; margin-left: 0.5rem\">ORG</span>\n",
       "</mark>\n",
       "] as well as a permanent member of \n",
       "<mark class=\"entity\" style=\"background: #7aecec; padding: 0.45em 0.6em; margin: 0 0.25em; line-height: 1; border-radius: 0.35em;\">\n",
       "    the UN Security Council\n",
       "    <span style=\"font-size: 0.8em; font-weight: bold; line-height: 1; border-radius: 0.35em; vertical-align: middle; margin-left: 0.5rem\">ORG</span>\n",
       "</mark>\n",
       ".</div></span>"
      ]
     },
     "metadata": {},
     "output_type": "display_data"
    }
   ],
   "execution_count": 29
  },
  {
   "metadata": {
    "ExecuteTime": {
     "end_time": "2024-09-09T04:02:52.430377Z",
     "start_time": "2024-09-09T04:02:50.527561Z"
    }
   },
   "cell_type": "code",
   "source": "nlp2=spacy.load('en_core_web_md')",
   "id": "ac01cd321f33a854",
   "outputs": [],
   "execution_count": 30
  },
  {
   "metadata": {
    "ExecuteTime": {
     "end_time": "2024-09-09T04:02:52.437932Z",
     "start_time": "2024-09-09T04:02:52.430377Z"
    }
   },
   "cell_type": "code",
   "source": "f=open(\"USA.txt\",\"r\")",
   "id": "52c8cb9e6fd5c7a6",
   "outputs": [],
   "execution_count": 31
  },
  {
   "metadata": {
    "ExecuteTime": {
     "end_time": "2024-09-09T04:02:52.559640Z",
     "start_time": "2024-09-09T04:02:52.439275Z"
    }
   },
   "cell_type": "code",
   "source": "model=nlp2(f.read())",
   "id": "fd2203082be3b84a",
   "outputs": [],
   "execution_count": 32
  },
  {
   "metadata": {
    "ExecuteTime": {
     "end_time": "2024-09-09T04:02:52.564422Z",
     "start_time": "2024-09-09T04:02:52.559640Z"
    }
   },
   "cell_type": "code",
   "source": "model.sents",
   "id": "b08f152981b008ce",
   "outputs": [
    {
     "data": {
      "text/plain": [
       "<generator at 0x2375c08add0>"
      ]
     },
     "execution_count": 33,
     "metadata": {},
     "output_type": "execute_result"
    }
   ],
   "execution_count": 33
  },
  {
   "metadata": {
    "ExecuteTime": {
     "end_time": "2024-09-09T04:02:52.571110Z",
     "start_time": "2024-09-09T04:02:52.565431Z"
    }
   },
   "cell_type": "code",
   "source": [
    "for i in model.sents:\n",
    "    print(i)"
   ],
   "id": "d6d31d14e075e769",
   "outputs": [
    {
     "name": "stdout",
     "output_type": "stream",
     "text": [
      "The United States of America (USA or U.S.A.), commonly known as the United States (US or U.S.) or America, is a country primarily located in North America.\n",
      "It is a federal union of 50 states, the federal capital district of Washington, D.C., and 326 Indian reservations.[j]\n",
      "The 48 contiguous states are bordered by Canada to the north and Mexico to the south.\n",
      "The State of Alaska lies to the northwest, while the State of Hawaii is an archipelago in the Pacific Ocean.\n",
      "The United States also asserts sovereignty over five major island territories and various uninhabited islands.[k]\n",
      "The country has the world's third-largest land area,[d] second-largest exclusive economic zone, and third-largest population, exceeding 334 million.[l]\n",
      "\n",
      "Paleo-Indians migrated across the Bering land bridge more than 12,000 years ago, and went on to form various civilizations and societies.\n",
      "British colonization led to the first settlement of the Thirteen Colonies in Virginia in 1607.\n",
      "Clashes with the British Crown over taxation and political representation sparked the American Revolution, with the Second Continental Congress formally declaring independence on July 4, 1776.\n",
      "Following its victory in the 1775â€“1783 Revolutionary War, the country continued to expand across North America.\n",
      "As more states were admitted, a North-South sectional division over slavery led to the secession of the Confederate States of America, which fought the remaining states of the Union during the 1861â€“1865 American Civil War.\n",
      "With the Union's victory and preservation, slavery was abolished nationally.\n",
      "By 1890, the United States had established itself as a great power.\n",
      "After Japan's attack on Pearl Harbor in December 1941, the U.S. entered World War II.\n",
      "The aftermath of the war left the U.S. and the Soviet Union as the world's two superpowers and led to the Cold War, during which both countries engaged in a struggle for ideological dominance and international influence.\n",
      "Following the Soviet Union's collapse and the end of the Cold War in 1991, the U.S. emerged as the world's sole superpower, wielding significant geopolitical influence globally.\n",
      "\n",
      "\n",
      "The U.S. national government is a presidential constitutional federal republic and liberal democracy with three separate branches: legislative, executive, and judicial.\n",
      "It has a bicameral national legislature composed of the House of Representatives, a lower house based on population; and the Senate, an upper house based on equal representation for each state.\n",
      "Substantial autonomy is provided by federalism, with a political culture promoting liberty, equality, individualism, personal autonomy, and limited government.\n",
      "\n",
      "\n",
      "One of the world's most developed countries, the United States has had the largest nominal GDP since about 1890 and accounted for 15% of the global economy in 2023.[m]\n",
      "It possesses by far the largest amount of wealth of any country and has the highest disposable household income per capita among OECD countries.\n",
      "The U.S. ranks among the world's highest in economic competitiveness, productivity, innovation, and higher education.\n",
      "Its hard power and cultural influence have a global reach.\n",
      "The U.S. is a founding member of the World Bank, Organization of American States, NATO, and United Nations,[n] as well as a permanent member of the UN Security Council.\n"
     ]
    }
   ],
   "execution_count": 34
  },
  {
   "metadata": {
    "ExecuteTime": {
     "end_time": "2024-09-09T04:02:52.783376Z",
     "start_time": "2024-09-09T04:02:52.572626Z"
    }
   },
   "cell_type": "code",
   "source": [
    "your_word=\"country\"\n",
    "ms=nlp2.vocab.vectors.most_similar(\n",
    "    np.asarray([nlp2.vocab.vectors[nlp2.vocab.strings[your_word]]]),n=10\n",
    ")\n",
    "words=[nlp2.vocab.strings[w] for w in ms[0][0]]\n",
    "distances=ms[2]\n",
    "print(words)"
   ],
   "id": "d64dfbc2c2493f2b",
   "outputs": [
    {
     "name": "stdout",
     "output_type": "stream",
     "text": [
      "['country—0,467', 'nationâ\\x80\\x99s', 'countries-', 'continente', 'Carnations', 'pastille', 'бесплатно', 'Argents', 'Tywysogion', 'Teeters']\n"
     ]
    }
   ],
   "execution_count": 35
  },
  {
   "metadata": {
    "ExecuteTime": {
     "end_time": "2024-09-09T04:02:52.812354Z",
     "start_time": "2024-09-09T04:02:52.785397Z"
    }
   },
   "cell_type": "code",
   "source": [
    "s1=nlp2(\"I like pizza and fries\")\n",
    "s2=nlp2(\"fast food is tastes good\")"
   ],
   "id": "e592bc2f2a13fa76",
   "outputs": [],
   "execution_count": 36
  },
  {
   "metadata": {
    "ExecuteTime": {
     "end_time": "2024-09-09T04:02:52.818514Z",
     "start_time": "2024-09-09T04:02:52.813360Z"
    }
   },
   "cell_type": "code",
   "source": "print(s1.similarity(s2))",
   "id": "afd1df35cc7407d0",
   "outputs": [
    {
     "name": "stdout",
     "output_type": "stream",
     "text": [
      "0.47331441855991324\n"
     ]
    }
   ],
   "execution_count": 37
  },
  {
   "metadata": {
    "ExecuteTime": {
     "end_time": "2024-09-09T04:02:52.836718Z",
     "start_time": "2024-09-09T04:02:52.820523Z"
    }
   },
   "cell_type": "code",
   "source": [
    "s3=nlp2(\"i love apples.\")\n",
    "s4=nlp2(\"i love oranges.\")"
   ],
   "id": "9351fc8b5b0c3081",
   "outputs": [],
   "execution_count": 38
  },
  {
   "metadata": {
    "ExecuteTime": {
     "end_time": "2024-09-09T04:02:52.842432Z",
     "start_time": "2024-09-09T04:02:52.836718Z"
    }
   },
   "cell_type": "code",
   "source": "s3.similarity(s4)",
   "id": "a1df588ff46e9586",
   "outputs": [
    {
     "data": {
      "text/plain": [
       "0.977702647422954"
      ]
     },
     "execution_count": 39,
     "metadata": {},
     "output_type": "execute_result"
    }
   ],
   "execution_count": 39
  },
  {
   "metadata": {
    "ExecuteTime": {
     "end_time": "2024-09-09T04:02:52.865094Z",
     "start_time": "2024-09-09T04:02:52.843662Z"
    }
   },
   "cell_type": "code",
   "source": [
    "s5=nlp2(\"fight\")\n",
    "s6=nlp2(\"battle\")\n",
    "s5.similarity(s6)"
   ],
   "id": "8c30ca832238a242",
   "outputs": [
    {
     "data": {
      "text/plain": [
       "0.7864727315501361"
      ]
     },
     "execution_count": 40,
     "metadata": {},
     "output_type": "execute_result"
    }
   ],
   "execution_count": 40
  },
  {
   "metadata": {
    "ExecuteTime": {
     "end_time": "2024-09-09T04:02:53.039825Z",
     "start_time": "2024-09-09T04:02:52.870103Z"
    }
   },
   "cell_type": "code",
   "source": "nlp=spacy.blank(\"en\")",
   "id": "b7557e24aeb87733",
   "outputs": [],
   "execution_count": 41
  },
  {
   "metadata": {
    "ExecuteTime": {
     "end_time": "2024-09-09T04:02:53.048763Z",
     "start_time": "2024-09-09T04:02:53.040835Z"
    }
   },
   "cell_type": "code",
   "source": "nlp.add_pipe(\"sentencizer\")",
   "id": "4e83861d234cb432",
   "outputs": [
    {
     "data": {
      "text/plain": [
       "<spacy.pipeline.sentencizer.Sentencizer at 0x2375c93ea50>"
      ]
     },
     "execution_count": 42,
     "metadata": {},
     "output_type": "execute_result"
    }
   ],
   "execution_count": 42
  },
  {
   "metadata": {
    "ExecuteTime": {
     "end_time": "2024-09-09T04:07:57.903399Z",
     "start_time": "2024-09-09T04:07:56.139321Z"
    }
   },
   "cell_type": "code",
   "source": [
    "nlp=spacy.load(\"en_core_web_md\")\n",
    "text=\"west chestertenfiendville was referenced in mr. deeds.\""
   ],
   "id": "1206946575adc53",
   "outputs": [],
   "execution_count": 49
  },
  {
   "metadata": {
    "ExecuteTime": {
     "end_time": "2024-09-09T04:07:57.916753Z",
     "start_time": "2024-09-09T04:07:57.905317Z"
    }
   },
   "cell_type": "code",
   "source": "doc=nlp(text)",
   "id": "215b3d601b8bb28c",
   "outputs": [],
   "execution_count": 50
  },
  {
   "metadata": {
    "ExecuteTime": {
     "end_time": "2024-09-09T04:08:20.544447Z",
     "start_time": "2024-09-09T04:08:20.540563Z"
    }
   },
   "cell_type": "code",
   "source": [
    "for ent in doc.ents:\n",
    "    print(ent.text,ent.label_,sep=\" # \")"
   ],
   "id": "df298674fa9c2f16",
   "outputs": [
    {
     "name": "stdout",
     "output_type": "stream",
     "text": [
      "west chestertenfiendville # PERSON\n",
      "deeds # PERSON\n"
     ]
    }
   ],
   "execution_count": 52
  },
  {
   "metadata": {
    "ExecuteTime": {
     "end_time": "2024-09-09T04:11:05.305353Z",
     "start_time": "2024-09-09T04:11:04.541776Z"
    }
   },
   "cell_type": "code",
   "source": "ruler=nlp.add_pipe(\"entity_ruler\")",
   "id": "b610ed9b79d8cbae",
   "outputs": [
    {
     "ename": "ValueError",
     "evalue": "[E007] 'entity_ruler' already exists in pipeline. Existing names: ['tok2vec', 'tagger', 'parser', 'senter', 'attribute_ruler', 'lemmatizer', 'ner', 'entity_ruler']",
     "output_type": "error",
     "traceback": [
      "\u001B[1;31m---------------------------------------------------------------------------\u001B[0m",
      "\u001B[1;31mValueError\u001B[0m                                Traceback (most recent call last)",
      "Cell \u001B[1;32mIn[56], line 1\u001B[0m\n\u001B[1;32m----> 1\u001B[0m ruler\u001B[38;5;241m=\u001B[39m\u001B[43mnlp\u001B[49m\u001B[38;5;241;43m.\u001B[39;49m\u001B[43madd_pipe\u001B[49m\u001B[43m(\u001B[49m\u001B[38;5;124;43m\"\u001B[39;49m\u001B[38;5;124;43mentity_ruler\u001B[39;49m\u001B[38;5;124;43m\"\u001B[39;49m\u001B[43m)\u001B[49m\n",
      "File \u001B[1;32m~\\AppData\\Roaming\\Python\\Python312\\site-packages\\spacy\\language.py:810\u001B[0m, in \u001B[0;36mLanguage.add_pipe\u001B[1;34m(self, factory_name, name, before, after, first, last, source, config, raw_config, validate)\u001B[0m\n\u001B[0;32m    808\u001B[0m name \u001B[38;5;241m=\u001B[39m name \u001B[38;5;28;01mif\u001B[39;00m name \u001B[38;5;129;01mis\u001B[39;00m \u001B[38;5;129;01mnot\u001B[39;00m \u001B[38;5;28;01mNone\u001B[39;00m \u001B[38;5;28;01melse\u001B[39;00m factory_name\n\u001B[0;32m    809\u001B[0m \u001B[38;5;28;01mif\u001B[39;00m name \u001B[38;5;129;01min\u001B[39;00m \u001B[38;5;28mself\u001B[39m\u001B[38;5;241m.\u001B[39mcomponent_names:\n\u001B[1;32m--> 810\u001B[0m     \u001B[38;5;28;01mraise\u001B[39;00m \u001B[38;5;167;01mValueError\u001B[39;00m(Errors\u001B[38;5;241m.\u001B[39mE007\u001B[38;5;241m.\u001B[39mformat(name\u001B[38;5;241m=\u001B[39mname, opts\u001B[38;5;241m=\u001B[39m\u001B[38;5;28mself\u001B[39m\u001B[38;5;241m.\u001B[39mcomponent_names))\n\u001B[0;32m    811\u001B[0m \u001B[38;5;66;03m# Overriding pipe name in the config is not supported and will be ignored.\u001B[39;00m\n\u001B[0;32m    812\u001B[0m \u001B[38;5;28;01mif\u001B[39;00m \u001B[38;5;124m\"\u001B[39m\u001B[38;5;124mname\u001B[39m\u001B[38;5;124m\"\u001B[39m \u001B[38;5;129;01min\u001B[39;00m config:\n",
      "\u001B[1;31mValueError\u001B[0m: [E007] 'entity_ruler' already exists in pipeline. Existing names: ['tok2vec', 'tagger', 'parser', 'senter', 'attribute_ruler', 'lemmatizer', 'ner', 'entity_ruler']"
     ]
    }
   ],
   "execution_count": 56
  },
  {
   "metadata": {
    "ExecuteTime": {
     "end_time": "2024-09-09T04:11:05.307864Z",
     "start_time": "2024-09-09T04:11:05.307864Z"
    }
   },
   "cell_type": "code",
   "source": "nlp.analyze_pipes()",
   "id": "a2d1aff246ede253",
   "outputs": [],
   "execution_count": null
  },
  {
   "metadata": {
    "ExecuteTime": {
     "end_time": "2024-09-09T04:11:05.766501Z",
     "start_time": "2024-09-09T04:11:05.762937Z"
    }
   },
   "cell_type": "code",
   "source": [
    "patterns=[\n",
    "    {\"label\":\"GPE\",\"pattern\":\"west chestertenfiendville\"}\n",
    "]"
   ],
   "id": "f25ec6c4dd7bda4",
   "outputs": [],
   "execution_count": 57
  },
  {
   "metadata": {},
   "cell_type": "code",
   "outputs": [],
   "execution_count": null,
   "source": "ruler.add_patterns()",
   "id": "94b3f1f7c88e1ea3"
  }
 ],
 "metadata": {
  "kernelspec": {
   "display_name": "Python 3",
   "language": "python",
   "name": "python3"
  },
  "language_info": {
   "codemirror_mode": {
    "name": "ipython",
    "version": 2
   },
   "file_extension": ".py",
   "mimetype": "text/x-python",
   "name": "python",
   "nbconvert_exporter": "python",
   "pygments_lexer": "ipython2",
   "version": "2.7.6"
  }
 },
 "nbformat": 4,
 "nbformat_minor": 5
}
